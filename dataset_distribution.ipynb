{
 "cells": [
  {
   "cell_type": "code",
   "execution_count": 44,
   "metadata": {},
   "outputs": [],
   "source": [
    "import matplotlib.pyplot as plt\n",
    "import numpy as np\n",
    "import pickle\n",
    "import matplotlib.cm as cm\n",
    "# given that the dataset is highly imbalance precision recall and f1- score will be used\n",
    "def plot_class_distribution(data, class_labels):\n",
    "    class_counts = np.zeros(len(class_labels))\n",
    "    total_samples = len(data)\n",
    "    for label in data:\n",
    "        class_counts[label] += 1\n",
    "    class_proportions = class_counts / total_samples\n",
    "    \n",
    "    # Define colors for each class\n",
    "    colors = ['gray', 'red', 'yellow', 'green', 'black', 'pink', 'darkblue']\n",
    "    \n",
    "    # Sort class labels and proportions by proportion in descending order\n",
    "    sorted_indices = np.argsort(class_proportions)[::-1]\n",
    "    sorted_class_labels = [list(class_labels.keys())[i] for i in sorted_indices]\n",
    "    sorted_class_proportions = class_proportions[sorted_indices]\n",
    "    sorted_colors = [colors[i] for i in sorted_indices]\n",
    "    \n",
    "    # Create a bar chart with colored bars\n",
    "    fig, ax = plt.subplots()\n",
    "    ax.bar(sorted_class_labels, sorted_class_proportions, color=sorted_colors)\n",
    "    \n",
    "    # Set chart title and axis labels\n",
    "    ax.set_title('Class Distribution')\n",
    "    ax.set_xlabel('Class')\n",
    "    ax.set_ylabel('Proportion')\n",
    "    \n",
    "    # Adjust y-axis limits to fit data\n",
    "    ax.set_ylim([0, max(sorted_class_proportions) * 1.1])\n",
    "    \n",
    "    # Show the plot\n",
    "    plt.show()"
   ]
  },
  {
   "cell_type": "code",
   "execution_count": 38,
   "metadata": {},
   "outputs": [],
   "source": [
    "pickle_in = open(\"FER2013_train_labels\", \"rb\")\n",
    "FER2013_training_labels = pickle.load(pickle_in)\n"
   ]
  },
  {
   "cell_type": "code",
   "execution_count": 45,
   "metadata": {},
   "outputs": [
    {
     "data": {
      "image/png": "[encoded data removed]",
      "text/plain": [
       "<Figure size 640x480 with 1 Axes>"
      ]
     },
     "metadata": {},
     "output_type": "display_data"
    }
   ],
   "source": [
    "emotion_labels_number = {\"neutral\": 0, \"angry\": 1, \"surprise\": 2, \"disgust\": 3, \"fear\": 4, \"happy\": 5, \"sad\": 6 }\n",
    "plot_class_distribution(FER2013_training_labels,emotion_labels_number)"
   ]
  },
  {
   "cell_type": "code",
   "execution_count": 65,
   "metadata": {},
   "outputs": [],
   "source": [
    "import pandas as pd\n",
    "x_train = pd.read_pickle(\"./Clean_datasets/EmotioNet/EmotioNet_FACS_X_train\")\n",
    "y_train = pd.read_pickle(\"./Clean_datasets/EmotioNet/EmotioNet_FACS_y_train\")\n",
    "X_val = pd.read_pickle(\"./Clean_datasets/EmotioNet/EmotioNet_FACS_X_val\")\n",
    "y_val = pd.read_pickle(\"./Clean_datasets/EmotioNet/EmotioNet_FACS_y_val\")\n",
    "x_test = pd.read_pickle(\"./Clean_datasets/EmotioNet/EmotioNet_FACS_X_test\")\n",
    "y_test = pd.read_pickle(\"./Clean_datasets/EmotioNet/EmotioNet_FACS_y_test\")"
   ]
  },
  {
   "cell_type": "code",
   "execution_count": 62,
   "metadata": {},
   "outputs": [
    {
     "data": {
      "text/plain": [
       "(224, 224)"
      ]
     },
     "execution_count": 62,
     "metadata": {},
     "output_type": "execute_result"
    }
   ],
   "source": [
    "x_train[1].shape"
   ]
  },
  {
   "cell_type": "code",
   "execution_count": 66,
   "metadata": {},
   "outputs": [],
   "source": [
    "total = pd.concat([y_train,y_val,y_test])"
   ]
  },
  {
   "cell_type": "code",
   "execution_count": null,
   "metadata": {},
   "outputs": [],
   "source": []
  },
  {
   "cell_type": "code",
   "execution_count": 41,
   "metadata": {},
   "outputs": [
    {
     "name": "stdout",
     "output_type": "stream",
     "text": [
      "Distribution in training set: \n",
      "1  2  4  5  6  9  10  12  15  17  18  20  24  25  26  28\n",
      "0  0  0  0  0  0  0   0   0   0   0   0   0   0   0   1     0.000396\n",
      "                                                  1   0     0.000158\n",
      "                                              1   0   0     0.013778\n",
      "                                                      1     0.000396\n",
      "                                                  1   0     0.002455\n",
      "                                                              ...   \n",
      "1  1  1  0  0  0  1   0   0   0   1   0   1   0   0   0     0.000079\n",
      "                          1   0   0   0   0   1   0   0     0.000079\n",
      "                                          1   0   0   0     0.000079\n",
      "                                      1   0   1   0   0     0.000079\n",
      "                      1   0   0   0   0   0   1   1   0     0.000079\n",
      "Length: 755, dtype: float64\n",
      "\n",
      "Distribution in validation set: \n",
      "1  2  4  5  6  9  10  12  15  17  18  20  24  25  26  28\n",
      "0  0  0  0  0  0  0   0   0   0   0   0   0   0   0   1     0.000634\n",
      "                                              1   0   0     0.015843\n",
      "                                                      1     0.001901\n",
      "                                                  1   0     0.001267\n",
      "                                          1   0   0   0     0.091255\n",
      "                                                              ...   \n",
      "1  1  0  1  0  0  1   0   1   0   0   0   1   0   0   0     0.000634\n",
      "                                      1   0   1   1   0     0.000634\n",
      "                      1   1   0   0   0   1   0   0   1     0.000634\n",
      "      1  0  0  0  1   0   0   0   1   0   0   1   0   0     0.000634\n",
      "         1  0  0  1   1   0   0   0   0   0   1   1   0     0.000634\n",
      "Length: 251, dtype: float64\n",
      "\n",
      "Distribution in testing set: \n",
      "1  2  4  5  6  9  10  12  15  17  18  20  24  25  26  28\n",
      "0  0  0  0  0  0  0   0   0   0   0   0   0   0   0   1     0.000630\n",
      "                                              1   0   0     0.015123\n",
      "                                                  1   0     0.001260\n",
      "                                          1   0   0   0     0.090737\n",
      "                                                      1     0.003781\n",
      "                                                              ...   \n",
      "1  1  0  0  0  0  1   1   0   0   0   0   0   1   0   0     0.000630\n",
      "                                                  1   0     0.001260\n",
      "         1  0  0  1   0   0   0   1   0   0   1   1   0     0.000630\n",
      "                      1   0   0   0   0   0   1   1   0     0.000630\n",
      "      1  1  0  0  0   0   1   0   0   1   0   1   1   0     0.000630\n",
      "Length: 255, dtype: float64\n",
      "\n",
      "Distribution in total set: \n",
      "1  2  4  5  6  9  10  12  15  17  18  20  24  25  26  28\n",
      "0  0  0  0  0  0  0   0   0   0   0   0   0   0   0   1     0.000443\n",
      "                                                  1   0     0.000127\n",
      "                                              1   0   0     0.014119\n",
      "                                                      1     0.000507\n",
      "                                                  1   0     0.002216\n",
      "                                                              ...   \n",
      "1  1  1  0  0  0  1   0   1   0   0   0   1   0   0   0     0.000063\n",
      "                                      1   0   1   0   0     0.000063\n",
      "                      1   0   0   0   0   0   1   1   0     0.000063\n",
      "         1  0  0  0   0   1   0   0   1   0   1   1   0     0.000063\n",
      "                  1   1   0   0   0   0   0   1   1   0     0.000063\n",
      "Length: 835, dtype: float64\n"
     ]
    }
   ],
   "source": [
    "print(f'Distribution in training set: \\n{y_train.value_counts().sort_index() / len(y_train)}\\n\\n'+\n",
    "      f'Distribution in validation set: \\n{y_val.value_counts().sort_index() / len(y_val)}\\n\\n'+\n",
    "      f'Distribution in testing set: \\n{y_test.value_counts().sort_index() / len(y_test)}\\n\\n'+\n",
    "      f'Distribution in total set: \\n{total.value_counts().sort_index() / len(total)}')"
   ]
  },
  {
   "cell_type": "code",
   "execution_count": 67,
   "metadata": {},
   "outputs": [
    {
     "name": "stdout",
     "output_type": "stream",
     "text": [
      "Distribution in total set: \n",
      "1       948\n",
      "2       422\n",
      "4      1700\n",
      "5       472\n",
      "6      3750\n",
      "9       247\n",
      "10    10678\n",
      "12     6482\n",
      "15     2734\n",
      "17      310\n",
      "18     2453\n",
      "20       57\n",
      "24     6877\n",
      "25     8149\n",
      "26     1372\n",
      "28      797\n",
      "dtype: int64\n"
     ]
    }
   ],
   "source": [
    "print(f'Distribution in total set: \\n{total.sum()}')"
   ]
  },
  {
   "cell_type": "code",
   "execution_count": 55,
   "metadata": {},
   "outputs": [
    {
     "data": {
      "text/plain": [
       "(581, 16)"
      ]
     },
     "execution_count": 55,
     "metadata": {},
     "output_type": "execute_result"
    }
   ],
   "source": [
    "total.shape"
   ]
  },
  {
   "cell_type": "code",
   "execution_count": 9,
   "metadata": {},
   "outputs": [
    {
     "name": "stdout",
     "output_type": "stream",
     "text": [
      "Distribution in training set: \n",
      "247\n",
      "\n",
      "Distribution in validation set: \n",
      "31\n",
      "\n",
      "Distribution in testing set: \n",
      "31\n"
     ]
    }
   ],
   "source": [
    "print(f'Distribution in training set: \\n{len(y_train)}\\n\\n'+\n",
    "      f'Distribution in validation set: \\n{len(y_val)}\\n\\n'+\n",
    "      f'Distribution in testing set: \\n{len(y_test)}')"
   ]
  }
 ],
 "metadata": {
  "kernelspec": {
   "display_name": "base",
   "language": "python",
   "name": "python3"
  },
  "language_info": {
   "codemirror_mode": {
    "name": "ipython",
    "version": 3
   },
   "file_extension": ".py",
   "mimetype": "text/x-python",
   "name": "python",
   "nbconvert_exporter": "python",
   "pygments_lexer": "ipython3",
   "version": "3.9.7"
  },
  "orig_nbformat": 4
 },
 "nbformat": 4,
 "nbformat_minor": 2
}
