{
 "cells": [
  {
   "cell_type": "code",
   "execution_count": 2,
   "metadata": {},
   "outputs": [],
   "source": [
    "import pathlib\n",
    "import os\n",
    "import cv2\n",
    "import numpy as np\n",
    "import pickle\n",
    "import pandas as pd\n",
    "from tqdm import tqdm"
   ]
  },
  {
   "cell_type": "code",
   "execution_count": 3,
   "metadata": {},
   "outputs": [],
   "source": [
    "FER2013_images_train = pathlib.Path(\"C:/Users/cdr03/Documents/Thesis/dataset/FER2013/train\")\n",
    "FER2013_images_test = pathlib.Path(\"C:/Users/cdr03/Documents/Thesis/dataset/FER2013/test\")\n",
    "emotion_labels_number = {\"neutral\": 0, \"angry\": 1, \"surprise\": 2, \"disgust\": 3, \"fear\": 4, \"happy\": 5, \"sad\": 6}\n",
    "IMG_size = 48"
   ]
  },
  {
   "cell_type": "code",
   "execution_count": 4,
   "metadata": {},
   "outputs": [],
   "source": [
    "def list_files_recursive(path, format = \".txt\"):\n",
    "    txt_files = set()  # create an empty set to store unique txt file names\n",
    "    for root, dirs, files in os.walk(path):\n",
    "        for file in files:\n",
    "            if file.endswith(format):\n",
    "                file_path = os.path.join(root, file)\n",
    "                txt_files.add(file_path)  # add the file path to the set\n",
    "        for dir in dirs:\n",
    "            dir_path = os.path.join(root, dir)\n",
    "            list_files_recursive(dir_path)  # recursively call the function on each subdirectory\n",
    "    return list(txt_files)  # return a list of unique txt file names"
   ]
  },
  {
   "cell_type": "code",
   "execution_count": 5,
   "metadata": {},
   "outputs": [],
   "source": [
    "def image_to_array(file_path):\n",
    "    # Read image using imread() function from opencv\n",
    "    img = cv2.imread(file_path, cv2.IMREAD_GRAYSCALE)\n",
    "    # Convert image to numpy array using np.array() function\n",
    "    img_array = np.array(img , dtype=\"float32\")/255\n",
    "    # Return the numpy array\n",
    "    return img_array"
   ]
  },
  {
   "cell_type": "code",
   "execution_count": 12,
   "metadata": {},
   "outputs": [],
   "source": [
    "def readImages_FER2013(file_list):\n",
    "    df = pd.DataFrame(columns=['Name','Data', 'Emotion'])\n",
    "    for file_path in tqdm(file_list, desc=\"Processing Images\"):\n",
    "        data = image_to_array(file_path)\n",
    "        dir_name = os.path.dirname(file_path)\n",
    "        file_name = os.path.basename(file_path)\n",
    "        emotion = emotion_labels_number[os.path.basename(dir_name)]\n",
    "        temp_df = pd.DataFrame({'Name': [file_name], 'Data':[data], 'Emotion':emotion})\n",
    "        df = pd.concat([df, temp_df], ignore_index=True)\n",
    "    return df"
   ]
  },
  {
   "cell_type": "code",
   "execution_count": 13,
   "metadata": {},
   "outputs": [
    {
     "name": "stderr",
     "output_type": "stream",
     "text": [
      "Processing Images: 100%|██████████| 28709/28709 [03:53<00:00, 122.80it/s]\n",
      "Processing Images: 100%|██████████| 7178/7178 [00:52<00:00, 136.50it/s]\n"
     ]
    }
   ],
   "source": [
    "FER2013_train_list = list_files_recursive(FER2013_images_train, \".jpg\")\n",
    "FER2013_test_list = list_files_recursive(FER2013_images_test, \".jpg\")\n",
    "Fer2013_df_train = readImages_FER2013(FER2013_train_list)\n",
    "Fer2013_df_test = readImages_FER2013(FER2013_test_list)"
   ]
  },
  {
   "cell_type": "code",
   "execution_count": 14,
   "metadata": {},
   "outputs": [
    {
     "data": {
      "text/html": [
       "<div>\n",
       "<style scoped>\n",
       "    .dataframe tbody tr th:only-of-type {\n",
       "        vertical-align: middle;\n",
       "    }\n",
       "\n",
       "    .dataframe tbody tr th {\n",
       "        vertical-align: top;\n",
       "    }\n",
       "\n",
       "    .dataframe thead th {\n",
       "        text-align: right;\n",
       "    }\n",
       "</style>\n",
       "<table border=\"1\" class=\"dataframe\">\n",
       "  <thead>\n",
       "    <tr style=\"text-align: right;\">\n",
       "      <th></th>\n",
       "      <th>Name</th>\n",
       "      <th>Data</th>\n",
       "      <th>Emotion</th>\n",
       "    </tr>\n",
       "  </thead>\n",
       "  <tbody>\n",
       "    <tr>\n",
       "      <th>0</th>\n",
       "      <td>Training_2949880.jpg</td>\n",
       "      <td>[[0.15686275, 0.101960786, 0.08627451, 0.08627...</td>\n",
       "      <td>0</td>\n",
       "    </tr>\n",
       "    <tr>\n",
       "      <th>1</th>\n",
       "      <td>Training_97259432.jpg</td>\n",
       "      <td>[[0.08235294, 0.08627451, 0.07450981, 0.070588...</td>\n",
       "      <td>6</td>\n",
       "    </tr>\n",
       "    <tr>\n",
       "      <th>2</th>\n",
       "      <td>Training_67244109.jpg</td>\n",
       "      <td>[[0.95686275, 0.9607843, 0.9647059, 0.96862745...</td>\n",
       "      <td>6</td>\n",
       "    </tr>\n",
       "    <tr>\n",
       "      <th>3</th>\n",
       "      <td>Training_31690617.jpg</td>\n",
       "      <td>[[0.7019608, 0.44705883, 0.13725491, 0.2745098...</td>\n",
       "      <td>2</td>\n",
       "    </tr>\n",
       "    <tr>\n",
       "      <th>4</th>\n",
       "      <td>Training_21320400.jpg</td>\n",
       "      <td>[[0.3764706, 0.18431373, 0.14117648, 0.1294117...</td>\n",
       "      <td>5</td>\n",
       "    </tr>\n",
       "    <tr>\n",
       "      <th>5</th>\n",
       "      <td>Training_38820602.jpg</td>\n",
       "      <td>[[0.11764706, 0.03529412, 0.015686275, 0.03921...</td>\n",
       "      <td>1</td>\n",
       "    </tr>\n",
       "    <tr>\n",
       "      <th>6</th>\n",
       "      <td>Training_37076666.jpg</td>\n",
       "      <td>[[0.2509804, 0.23529412, 0.2627451, 0.23921569...</td>\n",
       "      <td>5</td>\n",
       "    </tr>\n",
       "    <tr>\n",
       "      <th>7</th>\n",
       "      <td>Training_6257545.jpg</td>\n",
       "      <td>[[0.078431375, 0.11372549, 0.10980392, 0.11764...</td>\n",
       "      <td>2</td>\n",
       "    </tr>\n",
       "    <tr>\n",
       "      <th>8</th>\n",
       "      <td>Training_91218539.jpg</td>\n",
       "      <td>[[1.0, 1.0, 0.99607843, 1.0, 1.0, 0.99607843, ...</td>\n",
       "      <td>1</td>\n",
       "    </tr>\n",
       "    <tr>\n",
       "      <th>9</th>\n",
       "      <td>Training_99523432.jpg</td>\n",
       "      <td>[[0.21960784, 0.3019608, 0.24705882, 0.2941176...</td>\n",
       "      <td>5</td>\n",
       "    </tr>\n",
       "  </tbody>\n",
       "</table>\n",
       "</div>"
      ],
      "text/plain": [
       "                    Name                                               Data  \\\n",
       "0   Training_2949880.jpg  [[0.15686275, 0.101960786, 0.08627451, 0.08627...   \n",
       "1  Training_97259432.jpg  [[0.08235294, 0.08627451, 0.07450981, 0.070588...   \n",
       "2  Training_67244109.jpg  [[0.95686275, 0.9607843, 0.9647059, 0.96862745...   \n",
       "3  Training_31690617.jpg  [[0.7019608, 0.44705883, 0.13725491, 0.2745098...   \n",
       "4  Training_21320400.jpg  [[0.3764706, 0.18431373, 0.14117648, 0.1294117...   \n",
       "5  Training_38820602.jpg  [[0.11764706, 0.03529412, 0.015686275, 0.03921...   \n",
       "6  Training_37076666.jpg  [[0.2509804, 0.23529412, 0.2627451, 0.23921569...   \n",
       "7   Training_6257545.jpg  [[0.078431375, 0.11372549, 0.10980392, 0.11764...   \n",
       "8  Training_91218539.jpg  [[1.0, 1.0, 0.99607843, 1.0, 1.0, 0.99607843, ...   \n",
       "9  Training_99523432.jpg  [[0.21960784, 0.3019608, 0.24705882, 0.2941176...   \n",
       "\n",
       "  Emotion  \n",
       "0       0  \n",
       "1       6  \n",
       "2       6  \n",
       "3       2  \n",
       "4       5  \n",
       "5       1  \n",
       "6       5  \n",
       "7       2  \n",
       "8       1  \n",
       "9       5  "
      ]
     },
     "execution_count": 14,
     "metadata": {},
     "output_type": "execute_result"
    }
   ],
   "source": [
    "Fer2013_df_train.head(10)"
   ]
  },
  {
   "cell_type": "code",
   "execution_count": 15,
   "metadata": {},
   "outputs": [],
   "source": [
    "cv2.imshow(\"test\",Fer2013_df_test['Data'].iloc[2])\n",
    "cv2.waitKey(0)\n",
    "cv2.destroyAllWindows()"
   ]
  },
  {
   "cell_type": "code",
   "execution_count": 16,
   "metadata": {},
   "outputs": [],
   "source": [
    "Fer2013_df_train.to_pickle(f\"./Fer2013_train_{IMG_size}\")\n",
    "Fer2013_df_test.to_pickle(f\"./Fer2013_test_{IMG_size}\")\n",
    "\n"
   ]
  },
  {
   "cell_type": "code",
   "execution_count": 7,
   "metadata": {},
   "outputs": [
    {
     "data": {
      "text/plain": [
       "(28709, 3)"
      ]
     },
     "execution_count": 7,
     "metadata": {},
     "output_type": "execute_result"
    }
   ],
   "source": [
    "Fer2013_df_test.shape"
   ]
  },
  {
   "cell_type": "code",
   "execution_count": 7,
   "metadata": {},
   "outputs": [],
   "source": [
    "Fer2013_df_train = pd.read_pickle(\"./Fer2013_train_48\")\n",
    "Fer2013_df_test = pd.read_pickle(\"./Fer2013_test_48\")"
   ]
  },
  {
   "cell_type": "code",
   "execution_count": 8,
   "metadata": {},
   "outputs": [
    {
     "data": {
      "text/plain": [
       "Index(['Name', 'Data', 'Emotion'], dtype='object')"
      ]
     },
     "execution_count": 8,
     "metadata": {},
     "output_type": "execute_result"
    }
   ],
   "source": [
    "Fer2013_df_train.columns"
   ]
  },
  {
   "cell_type": "code",
   "execution_count": 9,
   "metadata": {},
   "outputs": [],
   "source": [
    "Fer2013_df_train = Fer2013_df_train[Fer2013_df_train.Emotion !=0 ]\n",
    "Fer2013_df_test = Fer2013_df_test[Fer2013_df_test.Emotion !=0 ]"
   ]
  },
  {
   "cell_type": "code",
   "execution_count": 10,
   "metadata": {},
   "outputs": [],
   "source": [
    "## Create training, validation and test datasets\n",
    "from sklearn.model_selection import train_test_split\n",
    "\n",
    "X_train, y_train = Fer2013_df_train['Data'], Fer2013_df_train['Emotion']\n",
    "# split remaining data into validation and train sets\n",
    "X_test, X_val, y_test, y_val = train_test_split(Fer2013_df_test.Data, Fer2013_df_test.Emotion, test_size=0.5, random_state=12, stratify=Fer2013_df_test.Emotion)\n",
    "    \n"
   ]
  },
  {
   "cell_type": "code",
   "execution_count": 11,
   "metadata": {},
   "outputs": [
    {
     "name": "stdout",
     "output_type": "stream",
     "text": [
      "Distribution in training set 23744: \n",
      "1    0.168253\n",
      "2    0.133550\n",
      "3    0.018363\n",
      "4    0.172549\n",
      "5    0.303866\n",
      "6    0.203420\n",
      "Name: Emotion, dtype: float64\n",
      "\n",
      "Distribution in validation set 2973: \n",
      "1    0.161117\n",
      "2    0.139926\n",
      "3    0.018500\n",
      "4    0.172217\n",
      "5    0.298352\n",
      "6    0.209889\n",
      "Name: Emotion, dtype: float64\n",
      "\n",
      "Distribution in testing set 2972: \n",
      "1    0.161171\n",
      "2    0.139637\n",
      "3    0.018843\n",
      "4    0.172275\n",
      "5    0.298452\n",
      "6    0.209623\n",
      "Name: Emotion, dtype: float64\n"
     ]
    }
   ],
   "source": [
    "print(f'Distribution in training set {len(y_train)}: \\n{y_train.value_counts().sort_index() / len(y_train)}\\n\\n'+\n",
    "      f'Distribution in validation set {len(y_val)}: \\n{y_val.value_counts().sort_index() / len(y_val)}\\n\\n'+\n",
    "      f'Distribution in testing set {len(y_test)}: \\n{y_test.value_counts().sort_index() / len(y_test)}')"
   ]
  },
  {
   "cell_type": "code",
   "execution_count": 14,
   "metadata": {},
   "outputs": [],
   "source": [
    "X_train.to_pickle('./Clean_datasets/FER2013/FER2013_Emotion_X_train')\n",
    "y_train.to_pickle('./Clean_datasets/FER2013/FER2013_Emotion_Y_train')\n",
    "X_val.to_pickle('./Clean_datasets/FER2013/FER2013_Emotion_X_val')\n",
    "y_val.to_pickle('./Clean_datasets/FER2013/FER2013_Emotion_Y_val')\n",
    "X_test.to_pickle('./Clean_datasets/FER2013/FER2013_Emotion_X_test')\n",
    "y_test.to_pickle('./Clean_datasets/FER2013/FER2013_Emotion_Y_test')"
   ]
  },
  {
   "cell_type": "code",
   "execution_count": null,
   "metadata": {},
   "outputs": [],
   "source": []
  }
 ],
 "metadata": {
  "kernelspec": {
   "display_name": "base",
   "language": "python",
   "name": "python3"
  },
  "language_info": {
   "codemirror_mode": {
    "name": "ipython",
    "version": 3
   },
   "file_extension": ".py",
   "mimetype": "text/x-python",
   "name": "python",
   "nbconvert_exporter": "python",
   "pygments_lexer": "ipython3",
   "version": "3.9.7"
  },
  "orig_nbformat": 4
 },
 "nbformat": 4,
 "nbformat_minor": 2
}
