{
 "cells": [
  {
   "cell_type": "code",
   "execution_count": 2,
   "metadata": {},
   "outputs": [],
   "source": [
    "import pathlib\n",
    "import os\n",
    "import pandas as pd\n",
    "import cv2\n",
    "import numpy as np\n",
    "from tqdm import tqdm"
   ]
  },
  {
   "cell_type": "code",
   "execution_count": 25,
   "metadata": {},
   "outputs": [],
   "source": [
    "def list_files(path, format = \".jpg\"):\n",
    "    txt_files = set()  # create an empty set to store unique txt file names\n",
    "    for root, dir, files in os.walk(path):\n",
    "        for file in files:\n",
    "            if file.endswith(format):\n",
    "                file_path = os.path.join(root, file)\n",
    "                txt_files.add(file_path)  # add the file path to the set\n",
    "    return list(txt_files)  # return a list of unique txt file names"
   ]
  },
  {
   "cell_type": "code",
   "execution_count": 3,
   "metadata": {},
   "outputs": [],
   "source": [
    "EmotioNet_emotion_images = pathlib.Path(\"C:/Users/cdr03/Documents/Thesis/dataset/EmotioNet/emotioNet_Emotions\")\n",
    "EmotioNet_EmotioNet_labels = pathlib.Path(\"C:/Users/cdr03/Documents/Thesis/dataset/EmotioNet/EmotioNet_Emotions.xlsx\")"
   ]
  },
  {
   "cell_type": "code",
   "execution_count": 4,
   "metadata": {},
   "outputs": [],
   "source": [
    "emotioNet_emotion_files = list_files(EmotioNet_emotion_images)"
   ]
  },
  {
   "cell_type": "code",
   "execution_count": 26,
   "metadata": {},
   "outputs": [],
   "source": [
    "def image_to_array(img):\n",
    "    array = np.array(img , dtype=\"float32\")/255\n",
    "    return array"
   ]
  },
  {
   "cell_type": "code",
   "execution_count": 27,
   "metadata": {},
   "outputs": [],
   "source": [
    "def detect_and_crop_face(image_path, resize=None):\n",
    "    # Load the input image\n",
    "    image = cv2.imread(image_path, cv2.IMREAD_GRAYSCALE)\n",
    "\n",
    "    # Load the Haar Cascade classifier for face detection\n",
    "    face_cascade = cv2.CascadeClassifier(cv2.data.haarcascades + 'haarcascade_frontalface_default.xml')\n",
    "\n",
    "    # Detect faces in the image\n",
    "    faces = face_cascade.detectMultiScale(image, scaleFactor=1.1, minNeighbors=5)\n",
    "\n",
    "    # Crop the image to contain the detected face (if any)\n",
    "    if len(faces) > 0:\n",
    "        (x, y, w, h) = faces[0]\n",
    "        face_image = image[y:y+h, x:x+w]\n",
    "        if resize is not None:\n",
    "            face_image = cv2.resize(face_image, resize)\n",
    "            face_image = image_to_array(face_image)\n",
    "            not_detected_faces = None\n",
    "    else:\n",
    "        face_image = None\n",
    "        not_detected_faces = image\n",
    "        print(\"face wasn't detected\")\n",
    "    return face_image, not_detected_faces"
   ]
  },
  {
   "cell_type": "code",
   "execution_count": 28,
   "metadata": {},
   "outputs": [],
   "source": [
    "size = (224,224)\n",
    "def readImages(file_list):\n",
    "    df = pd.DataFrame(columns=['Name','Data'])\n",
    "    df_face_undetected = pd.DataFrame(columns=['Name','Data'])\n",
    "    for file_path in tqdm(file_list, desc=\"Processing Images\"):\n",
    "        data, non_faces = detect_and_crop_face(file_path, size)\n",
    "        file_name = os.path.basename(file_path)\n",
    "        temp_df = pd.DataFrame({'Name': [file_name], 'Data':[data]})\n",
    "        df = pd.concat([df, temp_df], ignore_index=True)\n",
    "        temp_df_undetected = pd.DataFrame({'Name': [file_name], 'Data':[non_faces]})\n",
    "        df_face_undetected = pd.concat([df_face_undetected, temp_df_undetected], ignore_index=True)\n",
    "    return df, df_face_undetected"
   ]
  },
  {
   "cell_type": "code",
   "execution_count": 8,
   "metadata": {},
   "outputs": [
    {
     "name": "stderr",
     "output_type": "stream",
     "text": [
      "Processing Images:   0%|          | 5/2471 [00:00<04:00, 10.27it/s]"
     ]
    },
    {
     "name": "stdout",
     "output_type": "stream",
     "text": [
      "face wasn't detected\n"
     ]
    },
    {
     "name": "stderr",
     "output_type": "stream",
     "text": [
      "Processing Images:   1%|▏         | 35/2471 [00:03<04:34,  8.86it/s]"
     ]
    },
    {
     "name": "stdout",
     "output_type": "stream",
     "text": [
      "face wasn't detected\n"
     ]
    },
    {
     "name": "stderr",
     "output_type": "stream",
     "text": [
      "Processing Images:   3%|▎         | 68/2471 [00:07<03:18, 12.13it/s]"
     ]
    },
    {
     "name": "stdout",
     "output_type": "stream",
     "text": [
      "face wasn't detected\n"
     ]
    },
    {
     "name": "stderr",
     "output_type": "stream",
     "text": [
      "Processing Images:   3%|▎         | 70/2471 [00:07<03:54, 10.22it/s]"
     ]
    },
    {
     "name": "stdout",
     "output_type": "stream",
     "text": [
      "face wasn't detected\n"
     ]
    },
    {
     "name": "stderr",
     "output_type": "stream",
     "text": [
      "Processing Images:   8%|▊         | 201/2471 [00:35<04:54,  7.71it/s]  "
     ]
    },
    {
     "name": "stdout",
     "output_type": "stream",
     "text": [
      "face wasn't detected\n",
      "face wasn't detected\n"
     ]
    },
    {
     "name": "stderr",
     "output_type": "stream",
     "text": [
      "Processing Images:   8%|▊         | 208/2471 [00:41<24:30,  1.54it/s]"
     ]
    },
    {
     "name": "stdout",
     "output_type": "stream",
     "text": [
      "face wasn't detected\n"
     ]
    },
    {
     "name": "stderr",
     "output_type": "stream",
     "text": [
      "Processing Images:  10%|▉         | 236/2471 [00:47<04:39,  7.99it/s]"
     ]
    },
    {
     "name": "stdout",
     "output_type": "stream",
     "text": [
      "face wasn't detected\n"
     ]
    },
    {
     "name": "stderr",
     "output_type": "stream",
     "text": [
      "Processing Images:  10%|▉         | 238/2471 [00:47<04:14,  8.79it/s]"
     ]
    },
    {
     "name": "stdout",
     "output_type": "stream",
     "text": [
      "face wasn't detected\n"
     ]
    },
    {
     "name": "stderr",
     "output_type": "stream",
     "text": [
      "Processing Images:  10%|█         | 249/2471 [00:53<25:34,  1.45it/s]"
     ]
    },
    {
     "name": "stdout",
     "output_type": "stream",
     "text": [
      "face wasn't detected\n"
     ]
    },
    {
     "name": "stderr",
     "output_type": "stream",
     "text": [
      "Processing Images:  11%|█▏        | 281/2471 [00:58<05:33,  6.56it/s]"
     ]
    },
    {
     "name": "stdout",
     "output_type": "stream",
     "text": [
      "face wasn't detected\n"
     ]
    },
    {
     "name": "stderr",
     "output_type": "stream",
     "text": [
      "Processing Images:  14%|█▍        | 344/2471 [01:09<10:07,  3.50it/s]"
     ]
    },
    {
     "name": "stdout",
     "output_type": "stream",
     "text": [
      "face wasn't detected\n"
     ]
    },
    {
     "name": "stderr",
     "output_type": "stream",
     "text": [
      "Processing Images:  15%|█▍        | 363/2471 [01:14<11:01,  3.19it/s]"
     ]
    },
    {
     "name": "stdout",
     "output_type": "stream",
     "text": [
      "face wasn't detected\n"
     ]
    },
    {
     "name": "stderr",
     "output_type": "stream",
     "text": [
      "Processing Images:  16%|█▌        | 396/2471 [01:19<05:07,  6.74it/s]"
     ]
    },
    {
     "name": "stdout",
     "output_type": "stream",
     "text": [
      "face wasn't detected\n",
      "face wasn't detected\n"
     ]
    },
    {
     "name": "stderr",
     "output_type": "stream",
     "text": [
      "Processing Images:  16%|█▋        | 402/2471 [01:20<03:36,  9.58it/s]"
     ]
    },
    {
     "name": "stdout",
     "output_type": "stream",
     "text": [
      "face wasn't detected\n"
     ]
    },
    {
     "name": "stderr",
     "output_type": "stream",
     "text": [
      "Processing Images:  16%|█▋        | 406/2471 [01:20<03:29,  9.86it/s]"
     ]
    },
    {
     "name": "stdout",
     "output_type": "stream",
     "text": [
      "face wasn't detected\n"
     ]
    },
    {
     "name": "stderr",
     "output_type": "stream",
     "text": [
      "Processing Images:  17%|█▋        | 425/2471 [01:22<02:58, 11.46it/s]"
     ]
    },
    {
     "name": "stdout",
     "output_type": "stream",
     "text": [
      "face wasn't detected\n"
     ]
    },
    {
     "name": "stderr",
     "output_type": "stream",
     "text": [
      "Processing Images:  19%|█▊        | 463/2471 [01:28<05:54,  5.67it/s]"
     ]
    },
    {
     "name": "stdout",
     "output_type": "stream",
     "text": [
      "face wasn't detected\n"
     ]
    },
    {
     "name": "stderr",
     "output_type": "stream",
     "text": [
      "Processing Images:  19%|█▉        | 469/2471 [01:29<04:41,  7.11it/s]"
     ]
    },
    {
     "name": "stdout",
     "output_type": "stream",
     "text": [
      "face wasn't detected\n"
     ]
    },
    {
     "name": "stderr",
     "output_type": "stream",
     "text": [
      "Processing Images:  20%|██        | 502/2471 [01:34<04:05,  8.01it/s]"
     ]
    },
    {
     "name": "stdout",
     "output_type": "stream",
     "text": [
      "face wasn't detected\n"
     ]
    },
    {
     "name": "stderr",
     "output_type": "stream",
     "text": [
      "Processing Images:  21%|██        | 523/2471 [01:36<03:57,  8.21it/s]"
     ]
    },
    {
     "name": "stdout",
     "output_type": "stream",
     "text": [
      "face wasn't detected\n"
     ]
    },
    {
     "name": "stderr",
     "output_type": "stream",
     "text": [
      "Processing Images:  22%|██▏       | 532/2471 [01:37<04:21,  7.42it/s]"
     ]
    },
    {
     "name": "stdout",
     "output_type": "stream",
     "text": [
      "face wasn't detected\n"
     ]
    },
    {
     "name": "stderr",
     "output_type": "stream",
     "text": [
      "Processing Images:  23%|██▎       | 562/2471 [01:41<03:19,  9.57it/s]"
     ]
    },
    {
     "name": "stdout",
     "output_type": "stream",
     "text": [
      "face wasn't detected\n"
     ]
    },
    {
     "name": "stderr",
     "output_type": "stream",
     "text": [
      "Processing Images:  24%|██▍       | 603/2471 [01:46<03:07,  9.96it/s]"
     ]
    },
    {
     "name": "stdout",
     "output_type": "stream",
     "text": [
      "face wasn't detected\n"
     ]
    },
    {
     "name": "stderr",
     "output_type": "stream",
     "text": [
      "Processing Images:  25%|██▌       | 627/2471 [01:49<02:43, 11.26it/s]"
     ]
    },
    {
     "name": "stdout",
     "output_type": "stream",
     "text": [
      "face wasn't detected\n"
     ]
    },
    {
     "name": "stderr",
     "output_type": "stream",
     "text": [
      "Processing Images:  25%|██▌       | 629/2471 [01:49<02:44, 11.18it/s]"
     ]
    },
    {
     "name": "stdout",
     "output_type": "stream",
     "text": [
      "face wasn't detected\n"
     ]
    },
    {
     "name": "stderr",
     "output_type": "stream",
     "text": [
      "Processing Images:  27%|██▋       | 664/2471 [01:54<03:54,  7.72it/s]"
     ]
    },
    {
     "name": "stdout",
     "output_type": "stream",
     "text": [
      "face wasn't detected\n"
     ]
    },
    {
     "name": "stderr",
     "output_type": "stream",
     "text": [
      "Processing Images:  27%|██▋       | 671/2471 [01:55<03:30,  8.56it/s]"
     ]
    },
    {
     "name": "stdout",
     "output_type": "stream",
     "text": [
      "face wasn't detected\n"
     ]
    },
    {
     "name": "stderr",
     "output_type": "stream",
     "text": [
      "Processing Images:  28%|██▊       | 690/2471 [01:57<03:09,  9.40it/s]"
     ]
    },
    {
     "name": "stdout",
     "output_type": "stream",
     "text": [
      "face wasn't detected\n"
     ]
    },
    {
     "name": "stderr",
     "output_type": "stream",
     "text": [
      "Processing Images:  30%|██▉       | 730/2471 [02:07<09:03,  3.20it/s]"
     ]
    },
    {
     "name": "stdout",
     "output_type": "stream",
     "text": [
      "face wasn't detected\n"
     ]
    },
    {
     "name": "stderr",
     "output_type": "stream",
     "text": [
      "Processing Images:  30%|██▉       | 734/2471 [02:08<10:34,  2.74it/s]"
     ]
    },
    {
     "name": "stdout",
     "output_type": "stream",
     "text": [
      "face wasn't detected\n"
     ]
    },
    {
     "name": "stderr",
     "output_type": "stream",
     "text": [
      "Processing Images:  32%|███▏      | 782/2471 [02:17<03:27,  8.14it/s]"
     ]
    },
    {
     "name": "stdout",
     "output_type": "stream",
     "text": [
      "face wasn't detected\n"
     ]
    },
    {
     "name": "stderr",
     "output_type": "stream",
     "text": [
      "Processing Images:  32%|███▏      | 799/2471 [02:21<04:20,  6.41it/s]"
     ]
    },
    {
     "name": "stdout",
     "output_type": "stream",
     "text": [
      "face wasn't detected\n"
     ]
    },
    {
     "name": "stderr",
     "output_type": "stream",
     "text": [
      "Processing Images:  33%|███▎      | 826/2471 [02:28<04:16,  6.42it/s]"
     ]
    },
    {
     "name": "stdout",
     "output_type": "stream",
     "text": [
      "face wasn't detected\n"
     ]
    },
    {
     "name": "stderr",
     "output_type": "stream",
     "text": [
      "Processing Images:  34%|███▎      | 830/2471 [02:29<03:50,  7.11it/s]"
     ]
    },
    {
     "name": "stdout",
     "output_type": "stream",
     "text": [
      "face wasn't detected\n"
     ]
    },
    {
     "name": "stderr",
     "output_type": "stream",
     "text": [
      "Processing Images:  35%|███▍      | 860/2471 [02:34<04:19,  6.22it/s]"
     ]
    },
    {
     "name": "stdout",
     "output_type": "stream",
     "text": [
      "face wasn't detected\n"
     ]
    },
    {
     "name": "stderr",
     "output_type": "stream",
     "text": [
      "Processing Images:  35%|███▌      | 866/2471 [02:35<04:08,  6.47it/s]"
     ]
    },
    {
     "name": "stdout",
     "output_type": "stream",
     "text": [
      "face wasn't detected\n"
     ]
    },
    {
     "name": "stderr",
     "output_type": "stream",
     "text": [
      "Processing Images:  36%|███▌      | 887/2471 [02:38<04:26,  5.95it/s]"
     ]
    },
    {
     "name": "stdout",
     "output_type": "stream",
     "text": [
      "face wasn't detected\n"
     ]
    },
    {
     "name": "stderr",
     "output_type": "stream",
     "text": [
      "Processing Images:  37%|███▋      | 913/2471 [02:42<04:15,  6.09it/s]"
     ]
    },
    {
     "name": "stdout",
     "output_type": "stream",
     "text": [
      "face wasn't detected\n"
     ]
    },
    {
     "name": "stderr",
     "output_type": "stream",
     "text": [
      "Processing Images:  37%|███▋      | 918/2471 [02:42<04:46,  5.43it/s]"
     ]
    },
    {
     "name": "stdout",
     "output_type": "stream",
     "text": [
      "face wasn't detected\n"
     ]
    },
    {
     "name": "stderr",
     "output_type": "stream",
     "text": [
      "Processing Images:  38%|███▊      | 950/2471 [02:50<06:46,  3.74it/s]"
     ]
    },
    {
     "name": "stdout",
     "output_type": "stream",
     "text": [
      "face wasn't detected\n"
     ]
    },
    {
     "name": "stderr",
     "output_type": "stream",
     "text": [
      "Processing Images:  40%|███▉      | 982/2471 [02:55<02:51,  8.68it/s]"
     ]
    },
    {
     "name": "stdout",
     "output_type": "stream",
     "text": [
      "face wasn't detected\n"
     ]
    },
    {
     "name": "stderr",
     "output_type": "stream",
     "text": [
      "Processing Images:  41%|████      | 1002/2471 [02:57<02:32,  9.64it/s]"
     ]
    },
    {
     "name": "stdout",
     "output_type": "stream",
     "text": [
      "face wasn't detected\n"
     ]
    },
    {
     "name": "stderr",
     "output_type": "stream",
     "text": [
      "Processing Images:  41%|████▏     | 1025/2471 [03:01<03:03,  7.88it/s]"
     ]
    },
    {
     "name": "stdout",
     "output_type": "stream",
     "text": [
      "face wasn't detected\n"
     ]
    },
    {
     "name": "stderr",
     "output_type": "stream",
     "text": [
      "Processing Images:  42%|████▏     | 1033/2471 [03:02<03:56,  6.07it/s]"
     ]
    },
    {
     "name": "stdout",
     "output_type": "stream",
     "text": [
      "face wasn't detected\n"
     ]
    },
    {
     "name": "stderr",
     "output_type": "stream",
     "text": [
      "Processing Images:  42%|████▏     | 1049/2471 [03:04<02:18, 10.24it/s]"
     ]
    },
    {
     "name": "stdout",
     "output_type": "stream",
     "text": [
      "face wasn't detected\n"
     ]
    },
    {
     "name": "stderr",
     "output_type": "stream",
     "text": [
      "Processing Images:  44%|████▍     | 1089/2471 [03:12<04:02,  5.70it/s]"
     ]
    },
    {
     "name": "stdout",
     "output_type": "stream",
     "text": [
      "face wasn't detected\n"
     ]
    },
    {
     "name": "stderr",
     "output_type": "stream",
     "text": [
      "Processing Images:  45%|████▌     | 1117/2471 [03:17<03:58,  5.68it/s]"
     ]
    },
    {
     "name": "stdout",
     "output_type": "stream",
     "text": [
      "face wasn't detected\n"
     ]
    },
    {
     "name": "stderr",
     "output_type": "stream",
     "text": [
      "Processing Images:  46%|████▌     | 1127/2471 [03:24<06:38,  3.37it/s]"
     ]
    },
    {
     "name": "stdout",
     "output_type": "stream",
     "text": [
      "face wasn't detected\n"
     ]
    },
    {
     "name": "stderr",
     "output_type": "stream",
     "text": [
      "Processing Images:  46%|████▌     | 1136/2471 [03:26<03:26,  6.47it/s]"
     ]
    },
    {
     "name": "stdout",
     "output_type": "stream",
     "text": [
      "face wasn't detected\n"
     ]
    },
    {
     "name": "stderr",
     "output_type": "stream",
     "text": [
      "Processing Images:  47%|████▋     | 1166/2471 [03:32<03:22,  6.43it/s]"
     ]
    },
    {
     "name": "stdout",
     "output_type": "stream",
     "text": [
      "face wasn't detected\n"
     ]
    },
    {
     "name": "stderr",
     "output_type": "stream",
     "text": [
      "Processing Images:  48%|████▊     | 1187/2471 [03:34<03:35,  5.95it/s]"
     ]
    },
    {
     "name": "stdout",
     "output_type": "stream",
     "text": [
      "face wasn't detected\n"
     ]
    },
    {
     "name": "stderr",
     "output_type": "stream",
     "text": [
      "Processing Images:  49%|████▊     | 1204/2471 [03:36<02:47,  7.58it/s]"
     ]
    },
    {
     "name": "stdout",
     "output_type": "stream",
     "text": [
      "face wasn't detected\n"
     ]
    },
    {
     "name": "stderr",
     "output_type": "stream",
     "text": [
      "Processing Images:  51%|█████     | 1255/2471 [03:45<02:02,  9.90it/s]"
     ]
    },
    {
     "name": "stdout",
     "output_type": "stream",
     "text": [
      "face wasn't detected\n",
      "face wasn't detected\n"
     ]
    },
    {
     "name": "stderr",
     "output_type": "stream",
     "text": [
      "Processing Images:  51%|█████     | 1260/2471 [03:45<02:31,  8.00it/s]"
     ]
    },
    {
     "name": "stdout",
     "output_type": "stream",
     "text": [
      "face wasn't detected\n"
     ]
    },
    {
     "name": "stderr",
     "output_type": "stream",
     "text": [
      "Processing Images:  52%|█████▏    | 1281/2471 [03:48<01:53, 10.49it/s]"
     ]
    },
    {
     "name": "stdout",
     "output_type": "stream",
     "text": [
      "face wasn't detected\n"
     ]
    },
    {
     "name": "stderr",
     "output_type": "stream",
     "text": [
      "Processing Images:  54%|█████▍    | 1333/2471 [03:55<03:58,  4.77it/s]"
     ]
    },
    {
     "name": "stdout",
     "output_type": "stream",
     "text": [
      "face wasn't detected\n"
     ]
    },
    {
     "name": "stderr",
     "output_type": "stream",
     "text": [
      "Processing Images:  58%|█████▊    | 1443/2471 [04:12<02:09,  7.95it/s]"
     ]
    },
    {
     "name": "stdout",
     "output_type": "stream",
     "text": [
      "face wasn't detected\n"
     ]
    },
    {
     "name": "stderr",
     "output_type": "stream",
     "text": [
      "Processing Images:  60%|█████▉    | 1474/2471 [04:15<01:13, 13.51it/s]"
     ]
    },
    {
     "name": "stdout",
     "output_type": "stream",
     "text": [
      "face wasn't detected\n"
     ]
    },
    {
     "name": "stderr",
     "output_type": "stream",
     "text": [
      "Processing Images:  60%|██████    | 1487/2471 [04:17<02:08,  7.67it/s]"
     ]
    },
    {
     "name": "stdout",
     "output_type": "stream",
     "text": [
      "face wasn't detected\n"
     ]
    },
    {
     "name": "stderr",
     "output_type": "stream",
     "text": [
      "Processing Images:  60%|██████    | 1489/2471 [04:17<02:29,  6.58it/s]"
     ]
    },
    {
     "name": "stdout",
     "output_type": "stream",
     "text": [
      "face wasn't detected\n"
     ]
    },
    {
     "name": "stderr",
     "output_type": "stream",
     "text": [
      "Processing Images:  61%|██████    | 1512/2471 [04:20<01:40,  9.55it/s]"
     ]
    },
    {
     "name": "stdout",
     "output_type": "stream",
     "text": [
      "face wasn't detected\n"
     ]
    },
    {
     "name": "stderr",
     "output_type": "stream",
     "text": [
      "Processing Images:  61%|██████▏   | 1518/2471 [04:20<01:37,  9.77it/s]"
     ]
    },
    {
     "name": "stdout",
     "output_type": "stream",
     "text": [
      "face wasn't detected\n"
     ]
    },
    {
     "name": "stderr",
     "output_type": "stream",
     "text": [
      "Processing Images:  62%|██████▏   | 1532/2471 [04:23<02:47,  5.61it/s]"
     ]
    },
    {
     "name": "stdout",
     "output_type": "stream",
     "text": [
      "face wasn't detected\n"
     ]
    },
    {
     "name": "stderr",
     "output_type": "stream",
     "text": [
      "Processing Images:  62%|██████▏   | 1536/2471 [04:24<02:46,  5.61it/s]"
     ]
    },
    {
     "name": "stdout",
     "output_type": "stream",
     "text": [
      "face wasn't detected\n"
     ]
    },
    {
     "name": "stderr",
     "output_type": "stream",
     "text": [
      "Processing Images:  65%|██████▌   | 1616/2471 [04:35<01:27,  9.76it/s]"
     ]
    },
    {
     "name": "stdout",
     "output_type": "stream",
     "text": [
      "face wasn't detected\n",
      "face wasn't detected\n"
     ]
    },
    {
     "name": "stderr",
     "output_type": "stream",
     "text": [
      "Processing Images:  65%|██████▌   | 1618/2471 [04:35<01:20, 10.55it/s]"
     ]
    },
    {
     "name": "stdout",
     "output_type": "stream",
     "text": [
      "face wasn't detected\n"
     ]
    },
    {
     "name": "stderr",
     "output_type": "stream",
     "text": [
      "Processing Images:  67%|██████▋   | 1657/2471 [04:42<02:07,  6.41it/s]"
     ]
    },
    {
     "name": "stdout",
     "output_type": "stream",
     "text": [
      "face wasn't detected\n"
     ]
    },
    {
     "name": "stderr",
     "output_type": "stream",
     "text": [
      "Processing Images:  68%|██████▊   | 1681/2471 [04:45<01:05, 12.00it/s]"
     ]
    },
    {
     "name": "stdout",
     "output_type": "stream",
     "text": [
      "face wasn't detected\n"
     ]
    },
    {
     "name": "stderr",
     "output_type": "stream",
     "text": [
      "Processing Images:  69%|██████▊   | 1696/2471 [04:48<01:58,  6.54it/s]"
     ]
    },
    {
     "name": "stdout",
     "output_type": "stream",
     "text": [
      "face wasn't detected\n"
     ]
    },
    {
     "name": "stderr",
     "output_type": "stream",
     "text": [
      "Processing Images:  73%|███████▎  | 1794/2471 [05:08<01:26,  7.86it/s]"
     ]
    },
    {
     "name": "stdout",
     "output_type": "stream",
     "text": [
      "face wasn't detected\n"
     ]
    },
    {
     "name": "stderr",
     "output_type": "stream",
     "text": [
      "Processing Images:  73%|███████▎  | 1800/2471 [05:08<01:07, 10.01it/s]"
     ]
    },
    {
     "name": "stdout",
     "output_type": "stream",
     "text": [
      "face wasn't detected\n"
     ]
    },
    {
     "name": "stderr",
     "output_type": "stream",
     "text": [
      "Processing Images:  73%|███████▎  | 1804/2471 [05:09<01:07,  9.95it/s]"
     ]
    },
    {
     "name": "stdout",
     "output_type": "stream",
     "text": [
      "face wasn't detected\n"
     ]
    },
    {
     "name": "stderr",
     "output_type": "stream",
     "text": [
      "Processing Images:  73%|███████▎  | 1815/2471 [05:10<01:11,  9.20it/s]"
     ]
    },
    {
     "name": "stdout",
     "output_type": "stream",
     "text": [
      "face wasn't detected\n",
      "face wasn't detected\n"
     ]
    },
    {
     "name": "stderr",
     "output_type": "stream",
     "text": [
      "Processing Images:  75%|███████▍  | 1849/2471 [05:16<01:25,  7.27it/s]"
     ]
    },
    {
     "name": "stdout",
     "output_type": "stream",
     "text": [
      "face wasn't detected\n"
     ]
    },
    {
     "name": "stderr",
     "output_type": "stream",
     "text": [
      "Processing Images:  76%|███████▌  | 1875/2471 [05:19<01:20,  7.42it/s]"
     ]
    },
    {
     "name": "stdout",
     "output_type": "stream",
     "text": [
      "face wasn't detected\n"
     ]
    },
    {
     "name": "stderr",
     "output_type": "stream",
     "text": [
      "Processing Images:  76%|███████▌  | 1879/2471 [05:20<01:06,  8.91it/s]"
     ]
    },
    {
     "name": "stdout",
     "output_type": "stream",
     "text": [
      "face wasn't detected\n"
     ]
    },
    {
     "name": "stderr",
     "output_type": "stream",
     "text": [
      "Processing Images:  77%|███████▋  | 1909/2471 [05:24<01:07,  8.30it/s]"
     ]
    },
    {
     "name": "stdout",
     "output_type": "stream",
     "text": [
      "face wasn't detected\n"
     ]
    },
    {
     "name": "stderr",
     "output_type": "stream",
     "text": [
      "Processing Images:  80%|███████▉  | 1968/2471 [05:40<01:29,  5.64it/s]"
     ]
    },
    {
     "name": "stdout",
     "output_type": "stream",
     "text": [
      "face wasn't detected\n"
     ]
    },
    {
     "name": "stderr",
     "output_type": "stream",
     "text": [
      "Processing Images:  80%|███████▉  | 1973/2471 [05:40<01:12,  6.87it/s]"
     ]
    },
    {
     "name": "stdout",
     "output_type": "stream",
     "text": [
      "face wasn't detected\n"
     ]
    },
    {
     "name": "stderr",
     "output_type": "stream",
     "text": [
      "Processing Images:  80%|████████  | 1979/2471 [05:41<01:04,  7.60it/s]"
     ]
    },
    {
     "name": "stdout",
     "output_type": "stream",
     "text": [
      "face wasn't detected\n"
     ]
    },
    {
     "name": "stderr",
     "output_type": "stream",
     "text": [
      "Processing Images:  81%|████████  | 1998/2471 [05:44<00:57,  8.16it/s]"
     ]
    },
    {
     "name": "stdout",
     "output_type": "stream",
     "text": [
      "face wasn't detected\n"
     ]
    },
    {
     "name": "stderr",
     "output_type": "stream",
     "text": [
      "Processing Images:  82%|████████▏ | 2020/2471 [05:47<01:02,  7.21it/s]"
     ]
    },
    {
     "name": "stdout",
     "output_type": "stream",
     "text": [
      "face wasn't detected\n"
     ]
    },
    {
     "name": "stderr",
     "output_type": "stream",
     "text": [
      "Processing Images:  82%|████████▏ | 2022/2471 [05:47<00:51,  8.77it/s]"
     ]
    },
    {
     "name": "stdout",
     "output_type": "stream",
     "text": [
      "face wasn't detected\n"
     ]
    },
    {
     "name": "stderr",
     "output_type": "stream",
     "text": [
      "Processing Images:  82%|████████▏ | 2028/2471 [05:48<01:27,  5.09it/s]"
     ]
    },
    {
     "name": "stdout",
     "output_type": "stream",
     "text": [
      "face wasn't detected\n"
     ]
    },
    {
     "name": "stderr",
     "output_type": "stream",
     "text": [
      "Processing Images:  82%|████████▏ | 2031/2471 [05:49<01:12,  6.05it/s]"
     ]
    },
    {
     "name": "stdout",
     "output_type": "stream",
     "text": [
      "face wasn't detected\n"
     ]
    },
    {
     "name": "stderr",
     "output_type": "stream",
     "text": [
      "Processing Images:  82%|████████▏ | 2037/2471 [05:49<00:41, 10.46it/s]"
     ]
    },
    {
     "name": "stdout",
     "output_type": "stream",
     "text": [
      "face wasn't detected\n"
     ]
    },
    {
     "name": "stderr",
     "output_type": "stream",
     "text": [
      "Processing Images:  85%|████████▌ | 2112/2471 [06:00<00:46,  7.68it/s]"
     ]
    },
    {
     "name": "stdout",
     "output_type": "stream",
     "text": [
      "face wasn't detected\n"
     ]
    },
    {
     "name": "stderr",
     "output_type": "stream",
     "text": [
      "Processing Images:  87%|████████▋ | 2155/2471 [06:07<00:33,  9.37it/s]"
     ]
    },
    {
     "name": "stdout",
     "output_type": "stream",
     "text": [
      "face wasn't detected\n"
     ]
    },
    {
     "name": "stderr",
     "output_type": "stream",
     "text": [
      "Processing Images:  92%|█████████▏| 2268/2471 [06:26<00:27,  7.44it/s]"
     ]
    },
    {
     "name": "stdout",
     "output_type": "stream",
     "text": [
      "face wasn't detected\n"
     ]
    },
    {
     "name": "stderr",
     "output_type": "stream",
     "text": [
      "Processing Images:  93%|█████████▎| 2287/2471 [06:28<00:16, 11.35it/s]"
     ]
    },
    {
     "name": "stdout",
     "output_type": "stream",
     "text": [
      "face wasn't detected\n"
     ]
    },
    {
     "name": "stderr",
     "output_type": "stream",
     "text": [
      "Processing Images:  94%|█████████▍| 2326/2471 [06:34<00:14,  9.72it/s]"
     ]
    },
    {
     "name": "stdout",
     "output_type": "stream",
     "text": [
      "face wasn't detected\n"
     ]
    },
    {
     "name": "stderr",
     "output_type": "stream",
     "text": [
      "Processing Images:  94%|█████████▍| 2330/2471 [06:35<00:14,  9.96it/s]"
     ]
    },
    {
     "name": "stdout",
     "output_type": "stream",
     "text": [
      "face wasn't detected\n"
     ]
    },
    {
     "name": "stderr",
     "output_type": "stream",
     "text": [
      "Processing Images:  95%|█████████▌| 2351/2471 [06:38<00:16,  7.17it/s]"
     ]
    },
    {
     "name": "stdout",
     "output_type": "stream",
     "text": [
      "face wasn't detected\n"
     ]
    },
    {
     "name": "stderr",
     "output_type": "stream",
     "text": [
      "Processing Images:  95%|█████████▌| 2355/2471 [06:38<00:12,  9.54it/s]"
     ]
    },
    {
     "name": "stdout",
     "output_type": "stream",
     "text": [
      "face wasn't detected\n"
     ]
    },
    {
     "name": "stderr",
     "output_type": "stream",
     "text": [
      "Processing Images:  96%|█████████▋| 2384/2471 [06:42<00:10,  8.51it/s]"
     ]
    },
    {
     "name": "stdout",
     "output_type": "stream",
     "text": [
      "face wasn't detected\n"
     ]
    },
    {
     "name": "stderr",
     "output_type": "stream",
     "text": [
      "Processing Images:  97%|█████████▋| 2395/2471 [06:43<00:06, 11.11it/s]"
     ]
    },
    {
     "name": "stdout",
     "output_type": "stream",
     "text": [
      "face wasn't detected\n"
     ]
    },
    {
     "name": "stderr",
     "output_type": "stream",
     "text": [
      "Processing Images: 100%|█████████▉| 2463/2471 [06:52<00:00, 10.31it/s]"
     ]
    },
    {
     "name": "stdout",
     "output_type": "stream",
     "text": [
      "face wasn't detected\n"
     ]
    },
    {
     "name": "stderr",
     "output_type": "stream",
     "text": [
      "Processing Images: 100%|██████████| 2471/2471 [06:54<00:00,  5.95it/s]\n"
     ]
    }
   ],
   "source": [
    "EmotioNet_emotion, undetected = readImages(emotioNet_emotion_files)"
   ]
  },
  {
   "cell_type": "code",
   "execution_count": 9,
   "metadata": {},
   "outputs": [
    {
     "data": {
      "text/plain": [
       "4942"
      ]
     },
     "execution_count": 9,
     "metadata": {},
     "output_type": "execute_result"
    }
   ],
   "source": [
    "EmotioNet_emotion.size"
   ]
  },
  {
   "cell_type": "code",
   "execution_count": 10,
   "metadata": {},
   "outputs": [],
   "source": [
    "cv2.imshow(\"test\",EmotioNet_emotion.Data[0])\n",
    "cv2.waitKey(0)\n",
    "cv2.destroyAllWindows()\n"
   ]
  },
  {
   "cell_type": "code",
   "execution_count": 11,
   "metadata": {},
   "outputs": [],
   "source": [
    "df = pd.read_excel(EmotioNet_EmotioNet_labels)"
   ]
  },
  {
   "cell_type": "code",
   "execution_count": 12,
   "metadata": {},
   "outputs": [
    {
     "name": "stderr",
     "output_type": "stream",
     "text": [
      "C:\\Users\\cdr03\\AppData\\Local\\Temp\\ipykernel_18332\\1293018199.py:5: SettingWithCopyWarning: \n",
      "A value is trying to be set on a copy of a slice from a DataFrame.\n",
      "Try using .loc[row_indexer,col_indexer] = value instead\n",
      "\n",
      "See the caveats in the documentation: https://pandas.pydata.org/pandas-docs/stable/user_guide/indexing.html#returning-a-view-versus-a-copy\n",
      "  df_clean[\"emotion\"] = df.apply(\n"
     ]
    }
   ],
   "source": [
    "emotion_labels_number = {\"angry\": 1, \"surprised\": 2, \"disgusted\": 3, \"fearful\": 4, \"happy\": 5, \"sad\": 6}\n",
    "emotions = list(emotion_labels_number.keys())\n",
    "emotions.extend(['ID'])\n",
    "df_clean = df[emotions]\n",
    "df_clean[\"emotion\"] = df.apply(\n",
    "    lambda x: next((int(value) for emotion, value in emotion_labels_number.items() if x[emotion] == 1), None), \n",
    "    axis=1\n",
    ")\n",
    "EmotioNet_labels = df_clean[['ID', 'emotion']].dropna()\n",
    "EmotioNet_labels.rename(columns={\"ID\": \"Name\"}, inplace=True)\n"
   ]
  },
  {
   "cell_type": "code",
   "execution_count": 13,
   "metadata": {},
   "outputs": [
    {
     "name": "stdout",
     "output_type": "stream",
     "text": [
      "          Name  emotion\n",
      "3     0004.jpg      1.0\n",
      "4     0005.jpg      5.0\n",
      "5     0006.jpg      5.0\n",
      "14    0015.jpg      1.0\n",
      "17    0018.jpg      1.0\n",
      "19    0020.jpg      1.0\n",
      "21    0022.jpg      5.0\n",
      "26    0027.jpg      5.0\n",
      "31    0032.jpg      6.0\n",
      "33    0034.jpg      5.0\n",
      "34    0035.jpg      5.0\n",
      "35    0036.jpg      6.0\n",
      "36    0037.jpg      6.0\n",
      "38    0039.jpg      1.0\n",
      "39    0040.jpg      5.0\n",
      "42    0043.jpg      5.0\n",
      "43    0044.jpg      4.0\n",
      "45    0046.jpg      5.0\n",
      "50    0051.jpg      5.0\n",
      "53    0054.jpg      5.0\n",
      "54    0055.jpg      5.0\n",
      "57    0058.jpg      6.0\n",
      "58    0059.jpg      6.0\n",
      "59    0060.jpg      3.0\n",
      "62    0063.jpg      5.0\n",
      "64    0065.jpg      5.0\n",
      "69    0070.jpg      5.0\n",
      "70    0071.jpg      1.0\n",
      "72    0073.jpg      5.0\n",
      "75    0076.jpg      6.0\n",
      "78    0079.jpg      1.0\n",
      "79    0080.jpg      4.0\n",
      "80    0081.jpg      5.0\n",
      "81    0082.jpg      5.0\n",
      "82    0083.jpg      5.0\n",
      "84    0085.jpg      4.0\n",
      "87    0088.jpg      1.0\n",
      "91    0092.jpg      5.0\n",
      "92    0093.jpg      5.0\n",
      "94    0095.jpg      5.0\n",
      "101   0102.jpg      5.0\n",
      "102   0103.jpg      5.0\n",
      "104   0105.jpg      5.0\n",
      "109   0110.jpg      3.0\n",
      "110   0111.jpg      2.0\n",
      "111   0112.jpg      5.0\n",
      "112   0113.jpg      1.0\n",
      "115   0116.jpg      5.0\n",
      "118   0119.jpg      6.0\n",
      "122   0123.jpg      6.0\n",
      "128   0129.jpg      2.0\n",
      "137   0138.jpg      5.0\n",
      "138   0139.jpg      6.0\n",
      "141   0142.jpg      6.0\n",
      "144   0145.jpg      1.0\n",
      "146   0147.jpg      3.0\n",
      "147   0148.jpg      5.0\n",
      "152   0153.jpg      5.0\n",
      "161   0162.jpg      5.0\n",
      "162   0163.jpg      4.0\n",
      "163   0164.jpg      5.0\n",
      "164   0165.jpg      5.0\n",
      "165   0166.jpg      5.0\n",
      "167   0168.jpg      5.0\n",
      "171   0172.jpg      5.0\n",
      "173   0174.jpg      3.0\n",
      "174   0175.jpg      6.0\n",
      "175   0176.jpg      5.0\n",
      "177   0178.jpg      3.0\n",
      "179   0180.jpg      1.0\n",
      "183   0184.jpg      1.0\n",
      "184   0185.jpg      5.0\n",
      "185   0186.jpg      5.0\n",
      "188   0189.jpg      2.0\n",
      "189   0190.jpg      5.0\n",
      "193   0194.jpg      4.0\n",
      "194   0195.jpg      4.0\n",
      "203   0204.jpg      5.0\n",
      "204   0205.jpg      5.0\n",
      "206   0207.jpg      5.0\n",
      "207   0208.jpg      5.0\n",
      "209   0210.jpg      5.0\n",
      "210   0211.jpg      2.0\n",
      "213   0214.jpg      6.0\n",
      "214   0215.jpg      5.0\n",
      "216   0217.jpg      5.0\n",
      "217   0218.jpg      5.0\n",
      "219   0220.jpg      2.0\n",
      "225   0226.jpg      5.0\n",
      "227   0228.jpg      5.0\n",
      "228   0229.jpg      5.0\n",
      "229   0230.jpg      5.0\n",
      "230   0231.jpg      4.0\n",
      "231   0232.jpg      1.0\n",
      "238   0239.jpg      5.0\n",
      "242   0243.jpg      5.0\n",
      "246   0247.jpg      1.0\n",
      "248   0249.jpg      3.0\n",
      "249   0250.jpg      5.0\n",
      "252   0253.jpg      4.0\n",
      "253   0254.jpg      4.0\n",
      "258   0259.jpg      6.0\n",
      "260   0261.jpg      5.0\n",
      "262   0263.jpg      5.0\n",
      "263   0264.jpg      5.0\n",
      "264   0265.jpg      5.0\n",
      "267   0268.jpg      3.0\n",
      "268   0269.jpg      6.0\n",
      "273   0274.jpg      5.0\n",
      "275   0278.jpg      5.0\n",
      "276   0279.jpg      5.0\n",
      "285   0288.jpg      5.0\n",
      "286   0289.jpg      5.0\n",
      "288   0291.jpg      5.0\n",
      "289   0292.jpg      5.0\n",
      "290   0293.jpg      5.0\n",
      "292   0295.jpg      5.0\n",
      "295   0298.jpg      5.0\n",
      "297   0300.jpg      5.0\n",
      "298   0301.jpg      6.0\n",
      "299   0302.jpg      5.0\n",
      "300   0303.jpg      6.0\n",
      "301   0304.jpg      5.0\n",
      "305   0308.jpg      5.0\n",
      "306   0309.jpg      5.0\n",
      "308   0311.jpg      6.0\n",
      "316   0319.jpg      5.0\n",
      "317   0320.jpg      5.0\n",
      "320   0323.jpg      5.0\n",
      "321   0324.jpg      5.0\n",
      "324   0327.jpg      6.0\n",
      "326   0329.jpg      5.0\n",
      "328   0331.jpg      5.0\n",
      "329   0332.jpg      2.0\n",
      "330   0333.jpg      5.0\n",
      "333   0336.jpg      5.0\n",
      "335   0338.jpg      6.0\n",
      "336   0339.jpg      5.0\n",
      "338   0341.jpg      5.0\n",
      "339   0342.jpg      2.0\n",
      "340   0343.jpg      6.0\n",
      "345   0348.jpg      1.0\n",
      "346   0349.jpg      5.0\n",
      "349   0352.jpg      4.0\n",
      "358   0361.jpg      5.0\n",
      "360   0363.jpg      5.0\n",
      "361   0364.jpg      5.0\n",
      "367   0370.jpg      5.0\n",
      "369   0372.jpg      6.0\n",
      "370   0373.jpg      5.0\n",
      "377   0380.jpg      1.0\n",
      "378   0381.jpg      2.0\n",
      "381   0384.jpg      5.0\n",
      "383   0386.jpg      5.0\n",
      "386   0389.jpg      5.0\n",
      "387   0390.jpg      5.0\n",
      "388   0391.jpg      1.0\n",
      "389   0392.jpg      5.0\n",
      "390   0393.jpg      5.0\n",
      "391   0394.jpg      5.0\n",
      "392   0395.jpg      5.0\n",
      "393   0396.jpg      5.0\n",
      "396   0399.jpg      4.0\n",
      "400   0403.jpg      5.0\n",
      "404   0407.jpg      5.0\n",
      "406   0409.jpg      5.0\n",
      "408   0411.jpg      5.0\n",
      "412   0415.jpg      3.0\n",
      "413   0416.jpg      2.0\n",
      "414   0417.jpg      3.0\n",
      "415   0418.jpg      5.0\n",
      "416   0419.jpg      5.0\n",
      "417   0420.jpg      5.0\n",
      "420   0423.jpg      5.0\n",
      "421   0424.jpg      5.0\n",
      "422   0425.jpg      3.0\n",
      "424   0427.jpg      5.0\n",
      "425   0428.jpg      5.0\n",
      "427   0430.jpg      5.0\n",
      "428   0431.jpg      3.0\n",
      "431   0434.jpg      5.0\n",
      "438   0441.jpg      5.0\n",
      "439   0442.jpg      5.0\n",
      "443   0446.jpg      5.0\n",
      "444   0447.jpg      2.0\n",
      "445   0448.jpg      6.0\n",
      "446   0449.jpg      5.0\n",
      "452   0455.jpg      4.0\n",
      "455   0458.jpg      3.0\n",
      "456   0459.jpg      5.0\n",
      "460   0463.jpg      1.0\n",
      "461   0464.jpg      6.0\n",
      "462   0465.jpg      6.0\n",
      "464   0467.jpg      1.0\n",
      "465   0468.jpg      5.0\n",
      "467   0470.jpg      3.0\n",
      "468   0471.jpg      5.0\n",
      "470   0473.jpg      6.0\n",
      "472   0475.jpg      6.0\n",
      "473   0476.jpg      1.0\n",
      "474   0477.jpg      5.0\n",
      "475   0478.jpg      3.0\n",
      "477   0480.jpg      5.0\n",
      "478   0481.jpg      5.0\n",
      "480   0483.jpg      5.0\n",
      "481   0484.jpg      2.0\n",
      "487   0490.jpg      5.0\n",
      "488   0491.jpg      5.0\n",
      "489   0492.jpg      5.0\n",
      "490   0493.jpg      5.0\n",
      "491   0494.jpg      5.0\n",
      "493   0496.jpg      5.0\n",
      "499   0502.jpg      3.0\n",
      "500   0503.jpg      5.0\n",
      "501   0504.jpg      6.0\n",
      "503   0506.jpg      3.0\n",
      "507   0510.jpg      3.0\n",
      "513   0516.jpg      5.0\n",
      "515   0518.jpg      5.0\n",
      "516   0519.jpg      5.0\n",
      "517   0520.jpg      1.0\n",
      "520   0523.jpg      1.0\n",
      "521   0524.jpg      2.0\n",
      "523   0526.jpg      5.0\n",
      "524   0527.jpg      5.0\n",
      "528   0531.jpg      5.0\n",
      "529   0532.jpg      5.0\n",
      "530   0533.jpg      5.0\n",
      "533   0536.jpg      5.0\n",
      "544   0547.jpg      5.0\n",
      "545   0548.jpg      5.0\n",
      "548   0551.jpg      5.0\n",
      "549   0552.jpg      5.0\n",
      "550   0553.jpg      5.0\n",
      "551   0554.jpg      5.0\n",
      "552   0555.jpg      5.0\n",
      "560   0563.jpg      6.0\n",
      "562   0565.jpg      5.0\n",
      "563   0566.jpg      4.0\n",
      "564   0567.jpg      5.0\n",
      "566   0569.jpg      6.0\n",
      "567   0570.jpg      1.0\n",
      "570   0573.jpg      5.0\n",
      "572   0575.jpg      6.0\n",
      "573   0576.jpg      2.0\n",
      "580   0583.jpg      6.0\n",
      "581   0584.jpg      4.0\n",
      "582   0585.jpg      5.0\n",
      "584   0587.jpg      5.0\n",
      "585   0588.jpg      5.0\n",
      "590   0593.jpg      5.0\n",
      "591   0594.jpg      5.0\n",
      "592   0595.jpg      1.0\n",
      "595   0598.jpg      6.0\n",
      "596   0599.jpg      5.0\n",
      "597   0600.jpg      5.0\n",
      "598   0601.jpg      5.0\n",
      "600   0603.jpg      5.0\n",
      "603   0606.jpg      2.0\n",
      "606   0609.jpg      5.0\n",
      "607   0610.jpg      5.0\n",
      "608   0611.jpg      4.0\n",
      "609   0612.jpg      2.0\n",
      "610   0613.jpg      3.0\n",
      "612   0615.jpg      5.0\n",
      "614   0617.jpg      3.0\n",
      "615   0618.jpg      6.0\n",
      "616   0619.jpg      4.0\n",
      "619   0622.jpg      5.0\n",
      "621   0624.jpg      5.0\n",
      "625   0628.jpg      5.0\n",
      "626   0629.jpg      6.0\n",
      "629   0632.jpg      6.0\n",
      "635   0638.jpg      5.0\n",
      "637   0640.jpg      5.0\n",
      "642   0645.jpg      5.0\n",
      "644   0647.jpg      5.0\n",
      "645   0648.jpg      6.0\n",
      "651   0654.jpg      5.0\n",
      "653   0656.jpg      5.0\n",
      "656   0659.jpg      5.0\n",
      "657   0660.jpg      1.0\n",
      "662   0665.jpg      5.0\n",
      "663   0666.jpg      5.0\n",
      "664   0667.jpg      5.0\n",
      "665   0668.jpg      5.0\n",
      "667   0670.jpg      5.0\n",
      "668   0671.jpg      5.0\n",
      "669   0672.jpg      5.0\n",
      "670   0673.jpg      5.0\n",
      "673   0676.jpg      5.0\n",
      "679   0682.jpg      5.0\n",
      "681   0684.jpg      5.0\n",
      "685   0688.jpg      5.0\n",
      "689   0692.jpg      5.0\n",
      "690   0693.jpg      5.0\n",
      "691   0694.jpg      5.0\n",
      "693   0696.jpg      5.0\n",
      "697   0700.jpg      5.0\n",
      "698   0701.jpg      3.0\n",
      "699   0702.jpg      5.0\n",
      "700   0703.jpg      5.0\n",
      "704   0707.jpg      6.0\n",
      "708   0711.jpg      5.0\n",
      "709   0712.jpg      5.0\n",
      "717   0720.jpg      2.0\n",
      "718   0721.jpg      5.0\n",
      "721   0724.jpg      5.0\n",
      "725   0728.jpg      5.0\n",
      "726   0729.jpg      2.0\n",
      "729   0732.jpg      5.0\n",
      "732   0735.jpg      5.0\n",
      "734   0737.jpg      6.0\n",
      "736   0739.jpg      6.0\n",
      "740   0743.jpg      5.0\n",
      "743   0746.jpg      6.0\n",
      "745   0748.jpg      5.0\n",
      "747   0750.jpg      2.0\n",
      "748   0751.jpg      2.0\n",
      "753   0756.jpg      1.0\n",
      "754   0757.jpg      5.0\n",
      "755   0758.jpg      3.0\n",
      "757   0760.jpg      5.0\n",
      "758   0761.jpg      5.0\n",
      "761   0764.jpg      5.0\n",
      "762   0765.jpg      6.0\n",
      "764   0767.jpg      5.0\n",
      "765   0768.jpg      4.0\n",
      "766   0769.jpg      5.0\n",
      "767   0770.jpg      5.0\n",
      "770   0773.jpg      2.0\n",
      "778   0781.jpg      2.0\n",
      "780   0783.jpg      2.0\n",
      "781   0784.jpg      5.0\n",
      "782   0785.jpg      5.0\n",
      "785   0788.jpg      5.0\n",
      "786   0789.jpg      2.0\n",
      "787   0790.jpg      5.0\n",
      "788   0791.jpg      5.0\n",
      "789   0792.jpg      5.0\n",
      "794   0797.jpg      5.0\n",
      "796   0799.jpg      2.0\n",
      "799   0802.jpg      5.0\n",
      "800   0803.jpg      2.0\n",
      "804   0807.jpg      5.0\n",
      "805   0808.jpg      6.0\n",
      "807   0810.jpg      2.0\n",
      "808   0811.jpg      1.0\n",
      "809   0812.jpg      5.0\n",
      "810   0813.jpg      5.0\n",
      "812   0815.jpg      5.0\n",
      "813   0816.jpg      5.0\n",
      "814   0817.jpg      2.0\n",
      "825   0828.jpg      2.0\n",
      "826   0829.jpg      5.0\n",
      "827   0830.jpg      2.0\n",
      "828   0831.jpg      5.0\n",
      "829   0832.jpg      5.0\n",
      "831   0834.jpg      6.0\n",
      "832   0835.jpg      5.0\n",
      "833   0836.jpg      2.0\n",
      "836   0839.jpg      5.0\n",
      "838   0841.jpg      5.0\n",
      "844   0847.jpg      5.0\n",
      "847   0850.jpg      5.0\n",
      "850   0853.jpg      5.0\n",
      "852   0855.jpg      2.0\n",
      "853   0856.jpg      5.0\n",
      "859   0862.jpg      5.0\n",
      "860   0863.jpg      3.0\n",
      "861   0864.jpg      5.0\n",
      "862   0865.jpg      5.0\n",
      "864   0867.jpg      5.0\n",
      "865   0868.jpg      5.0\n",
      "866   0869.jpg      5.0\n",
      "869   0872.jpg      3.0\n",
      "871   0874.jpg      5.0\n",
      "872   0875.jpg      5.0\n",
      "874   0877.jpg      5.0\n",
      "876   0879.jpg      5.0\n",
      "877   0880.jpg      5.0\n",
      "879   0882.jpg      6.0\n",
      "881   0884.jpg      6.0\n",
      "883   0886.jpg      5.0\n",
      "887   0890.jpg      5.0\n",
      "890   0893.jpg      3.0\n",
      "893   0896.jpg      5.0\n",
      "895   0898.jpg      5.0\n",
      "896   0899.jpg      5.0\n",
      "898   0901.jpg      6.0\n",
      "899   0902.jpg      6.0\n",
      "901   0904.jpg      6.0\n",
      "903   0906.jpg      2.0\n",
      "904   0907.jpg      6.0\n",
      "907   0910.jpg      5.0\n",
      "908   0911.jpg      6.0\n",
      "910   0913.jpg      5.0\n",
      "912   0915.jpg      6.0\n",
      "916   0919.jpg      6.0\n",
      "918   0921.jpg      2.0\n",
      "919   0922.jpg      6.0\n",
      "921   0924.jpg      5.0\n",
      "922   0925.jpg      5.0\n",
      "923   0926.jpg      1.0\n",
      "929   0932.jpg      5.0\n",
      "932   0935.jpg      5.0\n",
      "933   0936.jpg      5.0\n",
      "935   0938.jpg      5.0\n",
      "937   0940.jpg      5.0\n",
      "938   0941.jpg      2.0\n",
      "941   0944.jpg      5.0\n",
      "943   0946.jpg      5.0\n",
      "944   0947.jpg      5.0\n",
      "946   0949.jpg      5.0\n",
      "947   0950.jpg      5.0\n",
      "952   0955.jpg      5.0\n",
      "955   0958.jpg      2.0\n",
      "956   0959.jpg      5.0\n",
      "958   0961.jpg      5.0\n",
      "960   0963.jpg      5.0\n",
      "961   0964.jpg      5.0\n",
      "962   0965.jpg      1.0\n",
      "964   0967.jpg      5.0\n",
      "965   0968.jpg      5.0\n",
      "966   0969.jpg      6.0\n",
      "967   0970.jpg      4.0\n",
      "969   0972.jpg      1.0\n",
      "980   0983.jpg      5.0\n",
      "983   0986.jpg      5.0\n",
      "984   0987.jpg      5.0\n",
      "985   0988.jpg      4.0\n",
      "988   0991.jpg      5.0\n",
      "989   0992.jpg      5.0\n",
      "990   0993.jpg      5.0\n",
      "992   0995.jpg      5.0\n",
      "993   0996.jpg      5.0\n",
      "998   1001.jpg      5.0\n",
      "1003  1006.jpg      6.0\n",
      "1005  1008.jpg      5.0\n",
      "1007  1010.jpg      5.0\n",
      "1010  1013.jpg      5.0\n",
      "1011  1014.jpg      2.0\n",
      "1015  1018.jpg      6.0\n",
      "1016  1019.jpg      6.0\n",
      "1018  1021.jpg      5.0\n",
      "1019  1022.jpg      6.0\n",
      "1021  1024.jpg      5.0\n",
      "1023  1026.jpg      5.0\n",
      "1024  1027.jpg      5.0\n",
      "1025  1028.jpg      5.0\n",
      "1026  1029.jpg      5.0\n",
      "1027  1030.jpg      5.0\n",
      "1031  1034.jpg      5.0\n",
      "1032  1035.jpg      5.0\n",
      "1033  1036.jpg      5.0\n",
      "1034  1037.jpg      1.0\n",
      "1035  1038.jpg      5.0\n",
      "1036  1039.jpg      1.0\n",
      "1037  1040.jpg      5.0\n",
      "1040  1043.jpg      1.0\n",
      "1043  1046.jpg      6.0\n",
      "1045  1048.jpg      5.0\n",
      "1049  1052.jpg      5.0\n",
      "1058  1061.jpg      5.0\n",
      "1068  1071.jpg      6.0\n",
      "1069  1072.jpg      5.0\n",
      "1070  1073.jpg      6.0\n",
      "1071  1074.jpg      6.0\n",
      "1072  1075.jpg      5.0\n",
      "1082  1085.jpg      5.0\n",
      "1083  1086.jpg      5.0\n",
      "1084  1087.jpg      6.0\n",
      "1087  1090.jpg      5.0\n",
      "1090  1093.jpg      2.0\n",
      "1091  1094.jpg      5.0\n",
      "1097  1100.jpg      5.0\n",
      "1098  1101.jpg      5.0\n",
      "1099  1102.jpg      5.0\n",
      "1104  1107.jpg      5.0\n",
      "1108  1111.jpg      5.0\n",
      "1110  1113.jpg      3.0\n",
      "1111  1114.jpg      5.0\n",
      "1113  1116.jpg      3.0\n",
      "1115  1118.jpg      4.0\n",
      "1116  1119.jpg      2.0\n",
      "1117  1120.jpg      5.0\n",
      "1119  1122.jpg      5.0\n",
      "1123  1126.jpg      6.0\n",
      "1125  1128.jpg      6.0\n",
      "1126  1129.jpg      5.0\n",
      "1129  1132.jpg      3.0\n",
      "1130  1133.jpg      5.0\n",
      "1132  1135.jpg      5.0\n",
      "1133  1136.jpg      5.0\n",
      "1135  1138.jpg      5.0\n",
      "1136  1139.jpg      6.0\n",
      "1139  1142.jpg      5.0\n",
      "1143  1146.jpg      5.0\n",
      "1144  1147.jpg      5.0\n",
      "1145  1148.jpg      5.0\n",
      "1146  1149.jpg      5.0\n",
      "1147  1150.jpg      5.0\n",
      "1149  1152.jpg      5.0\n",
      "1150  1153.jpg      5.0\n",
      "1151  1154.jpg      5.0\n",
      "1152  1155.jpg      5.0\n",
      "1153  1156.jpg      5.0\n",
      "1154  1157.jpg      5.0\n",
      "1156  1159.jpg      5.0\n",
      "1161  1164.jpg      5.0\n",
      "1164  1167.jpg      5.0\n",
      "1166  1169.jpg      5.0\n",
      "1167  1170.jpg      5.0\n",
      "1170  1173.jpg      5.0\n",
      "1171  1174.jpg      5.0\n",
      "1172  1175.jpg      5.0\n",
      "1173  1176.jpg      5.0\n",
      "1174  1177.jpg      3.0\n",
      "1177  1180.jpg      5.0\n",
      "1180  1183.jpg      5.0\n",
      "1181  1184.jpg      6.0\n",
      "1183  1186.jpg      5.0\n",
      "1184  1187.jpg      5.0\n",
      "1186  1189.jpg      3.0\n",
      "1188  1191.jpg      6.0\n",
      "1194  1197.jpg      5.0\n",
      "1195  1198.jpg      5.0\n",
      "1197  1200.jpg      6.0\n",
      "1198  1201.jpg      5.0\n",
      "1201  1204.jpg      5.0\n",
      "1203  1206.jpg      6.0\n",
      "1204  1207.jpg      6.0\n",
      "1205  1208.jpg      5.0\n",
      "1206  1209.jpg      2.0\n",
      "1208  1211.jpg      5.0\n",
      "1210  1213.jpg      5.0\n",
      "1211  1214.jpg      4.0\n",
      "1212  1215.jpg      6.0\n",
      "1214  1217.jpg      5.0\n",
      "1215  1218.jpg      1.0\n",
      "1217  1220.jpg      5.0\n",
      "1218  1221.jpg      5.0\n",
      "1219  1222.jpg      3.0\n",
      "1220  1223.jpg      5.0\n",
      "1221  1224.jpg      1.0\n",
      "1223  1226.jpg      5.0\n",
      "1230  1233.jpg      1.0\n",
      "1236  1239.jpg      3.0\n",
      "1237  1240.jpg      5.0\n",
      "1238  1241.jpg      6.0\n",
      "1240  1243.jpg      5.0\n",
      "1242  1245.jpg      4.0\n",
      "1244  1247.jpg      6.0\n",
      "1249  1252.jpg      5.0\n",
      "1250  1253.jpg      5.0\n",
      "1253  1256.jpg      5.0\n",
      "1254  1257.jpg      5.0\n",
      "1257  1260.jpg      1.0\n",
      "1258  1261.jpg      5.0\n",
      "1259  1262.jpg      5.0\n",
      "1260  1263.jpg      3.0\n",
      "1262  1265.jpg      5.0\n",
      "1264  1267.jpg      5.0\n",
      "1265  1268.jpg      6.0\n",
      "1266  1269.jpg      2.0\n",
      "1267  1270.jpg      5.0\n",
      "1268  1271.jpg      3.0\n",
      "1269  1272.jpg      4.0\n",
      "1272  1275.jpg      6.0\n",
      "1273  1276.jpg      5.0\n",
      "1275  1278.jpg      6.0\n",
      "1276  1279.jpg      5.0\n",
      "1278  1281.jpg      5.0\n",
      "1279  1282.jpg      1.0\n",
      "1281  1284.jpg      1.0\n",
      "1282  1285.jpg      5.0\n",
      "1284  1287.jpg      6.0\n",
      "1285  1288.jpg      6.0\n",
      "1287  1290.jpg      5.0\n",
      "1288  1291.jpg      1.0\n",
      "1289  1292.jpg      1.0\n",
      "1290  1293.jpg      5.0\n",
      "1291  1294.jpg      5.0\n",
      "1294  1297.jpg      5.0\n",
      "1295  1298.jpg      6.0\n",
      "1296  1299.jpg      1.0\n",
      "1297  1300.jpg      6.0\n",
      "1301  1304.jpg      5.0\n",
      "1303  1306.jpg      5.0\n",
      "1305  1308.jpg      5.0\n",
      "1306  1309.jpg      5.0\n",
      "1309  1312.jpg      6.0\n",
      "1315  1318.jpg      5.0\n",
      "1316  1319.jpg      6.0\n",
      "1317  1320.jpg      4.0\n",
      "1324  1327.jpg      6.0\n",
      "1326  1329.jpg      5.0\n",
      "1330  1333.jpg      2.0\n",
      "1332  1335.jpg      1.0\n",
      "1337  1340.jpg      1.0\n",
      "1338  1341.jpg      5.0\n",
      "1339  1342.jpg      5.0\n",
      "1340  1343.jpg      5.0\n",
      "1342  1345.jpg      5.0\n",
      "1346  1349.jpg      5.0\n",
      "1347  1350.jpg      6.0\n",
      "1348  1351.jpg      5.0\n",
      "1349  1352.jpg      5.0\n",
      "1352  1355.jpg      5.0\n",
      "1353  1356.jpg      5.0\n",
      "1356  1359.jpg      5.0\n",
      "1357  1360.jpg      5.0\n",
      "1365  1368.jpg      5.0\n",
      "1366  1369.jpg      5.0\n",
      "1370  1373.jpg      6.0\n",
      "1374  1377.jpg      5.0\n",
      "1377  1380.jpg      6.0\n",
      "1379  1382.jpg      5.0\n",
      "1382  1385.jpg      5.0\n",
      "1384  1387.jpg      5.0\n",
      "1385  1388.jpg      5.0\n",
      "1386  1389.jpg      6.0\n",
      "1388  1391.jpg      5.0\n",
      "1391  1394.jpg      5.0\n",
      "1394  1397.jpg      5.0\n",
      "1396  1399.jpg      6.0\n",
      "1398  1401.jpg      5.0\n",
      "1401  1404.jpg      1.0\n",
      "1403  1406.jpg      5.0\n",
      "1404  1407.jpg      5.0\n",
      "1408  1411.jpg      6.0\n",
      "1412  1415.jpg      5.0\n",
      "1414  1417.jpg      5.0\n",
      "1415  1418.jpg      5.0\n",
      "1417  1420.jpg      5.0\n",
      "1420  1423.jpg      5.0\n",
      "1427  1430.jpg      5.0\n",
      "1428  1431.jpg      5.0\n",
      "1430  1433.jpg      5.0\n",
      "1432  1435.jpg      5.0\n",
      "1435  1438.jpg      5.0\n",
      "1437  1440.jpg      5.0\n",
      "1438  1441.jpg      6.0\n",
      "1439  1442.jpg      1.0\n",
      "1440  1443.jpg      1.0\n",
      "1443  1446.jpg      5.0\n",
      "1444  1447.jpg      1.0\n",
      "1449  1452.jpg      6.0\n",
      "1450  1453.jpg      6.0\n",
      "1453  1456.jpg      1.0\n",
      "1454  1457.jpg      2.0\n",
      "1456  1459.jpg      5.0\n",
      "1457  1460.jpg      3.0\n",
      "1458  1461.jpg      6.0\n",
      "1463  1466.jpg      3.0\n",
      "1464  1467.jpg      2.0\n",
      "1465  1468.jpg      3.0\n",
      "1466  1469.jpg      2.0\n",
      "1467  1470.jpg      6.0\n",
      "1468  1471.jpg      1.0\n",
      "1470  1473.jpg      1.0\n",
      "1472  1475.jpg      2.0\n",
      "1473  1476.jpg      2.0\n",
      "1474  1477.jpg      2.0\n",
      "1475  1478.jpg      5.0\n",
      "1480  1483.jpg      5.0\n",
      "1486  1489.jpg      6.0\n",
      "1487  1490.jpg      5.0\n",
      "1488  1491.jpg      5.0\n",
      "1489  1492.jpg      5.0\n",
      "1490  1493.jpg      5.0\n",
      "1491  1494.jpg      2.0\n",
      "1493  1496.jpg      5.0\n",
      "1496  1499.jpg      5.0\n",
      "1501  1504.jpg      5.0\n",
      "1502  1505.jpg      5.0\n",
      "1503  1506.jpg      5.0\n",
      "1504  1507.jpg      5.0\n",
      "1506  1509.jpg      5.0\n",
      "1507  1510.jpg      5.0\n",
      "1508  1511.jpg      5.0\n",
      "1511  1514.jpg      5.0\n",
      "1512  1515.jpg      5.0\n",
      "1513  1516.jpg      5.0\n",
      "1515  1518.jpg      5.0\n",
      "1517  1520.jpg      5.0\n",
      "1518  1521.jpg      5.0\n",
      "1522  1525.jpg      5.0\n",
      "1524  1527.jpg      5.0\n",
      "1526  1529.jpg      5.0\n",
      "1529  1532.jpg      5.0\n",
      "1530  1533.jpg      5.0\n",
      "1531  1534.jpg      5.0\n",
      "1532  1535.jpg      5.0\n",
      "1534  1537.jpg      5.0\n",
      "1537  1540.jpg      3.0\n",
      "1539  1542.jpg      5.0\n",
      "1542  1545.jpg      2.0\n",
      "1544  1547.jpg      5.0\n",
      "1547  1550.jpg      3.0\n",
      "1548  1551.jpg      3.0\n",
      "1553  1556.jpg      5.0\n",
      "1554  1557.jpg      6.0\n",
      "1555  1558.jpg      5.0\n",
      "1556  1559.jpg      5.0\n",
      "1557  1560.jpg      5.0\n",
      "1558  1561.jpg      5.0\n",
      "1559  1562.jpg      5.0\n",
      "1560  1563.jpg      5.0\n",
      "1562  1565.jpg      5.0\n",
      "1565  1568.jpg      5.0\n",
      "1566  1569.jpg      5.0\n",
      "1571  1574.jpg      5.0\n",
      "1575  1578.jpg      5.0\n",
      "1576  1579.jpg      5.0\n",
      "1577  1580.jpg      5.0\n",
      "1579  1582.jpg      5.0\n",
      "1582  1585.jpg      5.0\n",
      "1583  1586.jpg      5.0\n",
      "1586  1589.jpg      6.0\n",
      "1587  1590.jpg      5.0\n",
      "1588  1591.jpg      6.0\n",
      "1593  1596.jpg      5.0\n",
      "1594  1597.jpg      5.0\n",
      "1595  1598.jpg      6.0\n",
      "1596  1599.jpg      5.0\n",
      "1597  1600.jpg      5.0\n",
      "1599  1602.jpg      5.0\n",
      "1600  1603.jpg      5.0\n",
      "1601  1604.jpg      2.0\n",
      "1606  1609.jpg      5.0\n",
      "1608  1611.jpg      5.0\n",
      "1610  1613.jpg      4.0\n",
      "1614  1617.jpg      5.0\n",
      "1616  1619.jpg      5.0\n",
      "1620  1623.jpg      5.0\n",
      "1621  1624.jpg      1.0\n",
      "1622  1625.jpg      4.0\n",
      "1627  1630.jpg      2.0\n",
      "1629  1632.jpg      5.0\n",
      "1630  1633.jpg      6.0\n",
      "1631  1634.jpg      5.0\n",
      "1641  1644.jpg      5.0\n",
      "1642  1645.jpg      2.0\n",
      "1643  1646.jpg      5.0\n",
      "1644  1647.jpg      5.0\n",
      "1649  1652.jpg      5.0\n",
      "1659  1663.jpg      5.0\n",
      "1671  1675.jpg      5.0\n",
      "1672  1676.jpg      5.0\n",
      "1673  1677.jpg      5.0\n",
      "1675  1679.jpg      5.0\n",
      "1677  1681.jpg      5.0\n",
      "1678  1682.jpg      5.0\n",
      "1681  1685.jpg      5.0\n",
      "1682  1686.jpg      6.0\n",
      "1684  1688.jpg      4.0\n",
      "1686  1690.jpg      5.0\n",
      "1695  1699.jpg      1.0\n",
      "1696  1700.jpg      5.0\n",
      "1697  1701.jpg      5.0\n",
      "1698  1702.jpg      5.0\n",
      "1700  1704.jpg      5.0\n",
      "1704  1708.jpg      1.0\n",
      "1706  1710.jpg      5.0\n",
      "1707  1711.jpg      5.0\n",
      "1709  1713.jpg      5.0\n",
      "1713  1717.jpg      6.0\n",
      "1715  1719.jpg      6.0\n",
      "1716  1720.jpg      3.0\n",
      "1717  1721.jpg      5.0\n",
      "1722  1726.jpg      5.0\n",
      "1727  1731.jpg      5.0\n",
      "1728  1732.jpg      5.0\n",
      "1732  1736.jpg      3.0\n",
      "1733  1737.jpg      5.0\n",
      "1736  1740.jpg      5.0\n",
      "1738  1742.bmp      3.0\n",
      "1741  1745.jpg      3.0\n",
      "1745  1749.jpg      3.0\n",
      "1747  1751.jpg      5.0\n",
      "1748  1752.jpg      5.0\n",
      "1749  1753.jpg      4.0\n",
      "1750  1754.jpg      1.0\n",
      "1751  1755.jpg      3.0\n",
      "1758  1762.jpg      5.0\n",
      "1761  1765.jpg      5.0\n",
      "1768  1772.jpg      5.0\n",
      "1770  1774.jpg      5.0\n",
      "1771  1775.jpg      5.0\n",
      "1772  1776.jpg      5.0\n",
      "1775  1779.jpg      5.0\n",
      "1776  1780.jpg      4.0\n",
      "1777  1781.jpg      5.0\n",
      "1779  1783.jpg      5.0\n",
      "1780  1784.jpg      5.0\n",
      "1781  1786.jpg      5.0\n",
      "1783  1788.jpg      5.0\n",
      "1785  1790.jpg      1.0\n",
      "1786  1791.jpg      5.0\n",
      "1787  1792.jpg      5.0\n",
      "1788  1793.jpg      5.0\n",
      "1791  1796.jpg      5.0\n",
      "1793  1798.jpg      5.0\n",
      "1795  1800.jpg      5.0\n",
      "1796  1801.jpg      6.0\n",
      "1797  1802.jpg      6.0\n",
      "1798  1803.jpg      5.0\n",
      "1799  1804.jpg      5.0\n",
      "1800  1805.jpg      5.0\n",
      "1801  1806.jpg      5.0\n",
      "1804  1809.jpg      6.0\n",
      "1808  1813.jpg      5.0\n",
      "1809  1814.jpg      5.0\n",
      "1810  1815.jpg      1.0\n",
      "1813  1818.jpg      5.0\n",
      "1814  1819.jpg      5.0\n",
      "1815  1820.jpg      5.0\n",
      "1817  1822.jpg      5.0\n",
      "1820  1825.jpg      5.0\n",
      "1824  1829.jpg      6.0\n",
      "1826  1831.jpg      5.0\n",
      "1827  1832.jpg      2.0\n",
      "1828  1833.jpg      4.0\n",
      "1832  1837.jpg      5.0\n",
      "1833  1838.jpg      5.0\n",
      "1837  1842.jpg      5.0\n",
      "1838  1843.jpg      5.0\n",
      "1840  1845.jpg      5.0\n",
      "1841  1846.jpg      5.0\n",
      "1842  1847.jpg      5.0\n",
      "1843  1848.jpg      5.0\n",
      "1844  1849.jpg      5.0\n",
      "1846  1851.jpg      5.0\n",
      "1847  1852.jpg      5.0\n",
      "1851  1856.jpg      4.0\n",
      "1857  1862.jpg      5.0\n",
      "1859  1864.jpg      5.0\n",
      "1860  1865.jpg      5.0\n",
      "1862  1867.jpg      5.0\n",
      "1864  1869.jpg      5.0\n",
      "1867  1872.jpg      2.0\n",
      "1870  1875.jpg      5.0\n",
      "1873  1878.jpg      5.0\n",
      "1875  1880.jpg      6.0\n",
      "1880  1885.jpg      5.0\n",
      "1881  1886.jpg      5.0\n",
      "1883  1888.jpg      5.0\n",
      "1885  1890.jpg      5.0\n",
      "1888  1893.jpg      5.0\n",
      "1892  1897.jpg      5.0\n",
      "1893  1898.jpg      5.0\n",
      "1894  1899.jpg      5.0\n",
      "1895  1900.jpg      5.0\n",
      "1896  1901.jpg      5.0\n",
      "1897  1902.jpg      5.0\n",
      "1898  1903.jpg      5.0\n",
      "1899  1904.jpg      5.0\n",
      "1901  1906.jpg      5.0\n",
      "1902  1907.jpg      5.0\n",
      "1904  1909.jpg      5.0\n",
      "1905  1910.jpg      5.0\n",
      "1906  1911.jpg      5.0\n",
      "1907  1912.jpg      5.0\n",
      "1908  1913.jpg      5.0\n",
      "1909  1914.jpg      5.0\n",
      "1910  1915.jpg      5.0\n",
      "1911  1916.jpg      2.0\n",
      "1914  1919.jpg      6.0\n",
      "1917  1922.jpg      5.0\n",
      "1918  1923.jpg      5.0\n",
      "1919  1924.jpg      5.0\n",
      "1929  1934.jpg      5.0\n",
      "1932  1937.jpg      5.0\n",
      "1935  1940.jpg      5.0\n",
      "1945  1950.jpg      5.0\n",
      "1946  1951.jpg      6.0\n",
      "1947  1952.jpg      5.0\n",
      "1950  1955.jpg      5.0\n",
      "1951  1956.jpg      5.0\n",
      "1953  1958.jpg      5.0\n",
      "1954  1959.jpg      5.0\n",
      "1958  1963.jpg      2.0\n",
      "1959  1964.jpg      5.0\n",
      "1962  1967.jpg      5.0\n",
      "1964  1969.jpg      5.0\n",
      "1965  1970.jpg      5.0\n",
      "1967  1972.jpg      5.0\n",
      "1968  1973.jpg      5.0\n",
      "1969  1974.jpg      5.0\n",
      "1970  1975.jpg      5.0\n",
      "1974  1979.jpg      6.0\n",
      "1975  1980.jpg      5.0\n",
      "1979  1984.jpg      5.0\n",
      "1983  1988.jpg      3.0\n",
      "1984  1989.jpg      2.0\n",
      "1985  1990.jpg      4.0\n",
      "1990  1995.jpg      5.0\n",
      "1992  1997.png      3.0\n",
      "1995  2000.jpg      5.0\n",
      "1996  2001.jpg      6.0\n",
      "1997  2002.jpg      5.0\n",
      "2002  2007.jpg      5.0\n",
      "2003  2008.jpg      6.0\n",
      "2004  2009.jpg      3.0\n",
      "2005  2010.jpg      5.0\n",
      "2007  2012.jpg      1.0\n",
      "2009  2014.jpg      5.0\n",
      "2010  2015.jpg      5.0\n",
      "2014  2019.jpg      6.0\n",
      "2018  2023.jpg      5.0\n",
      "2020  2025.jpg      5.0\n",
      "2023  2028.jpg      5.0\n",
      "2026  2031.jpg      5.0\n",
      "2027  2032.jpg      2.0\n",
      "2028  2033.jpg      5.0\n",
      "2029  2034.jpg      1.0\n",
      "2030  2035.jpg      5.0\n",
      "2035  2040.jpg      5.0\n",
      "2039  2044.jpg      5.0\n",
      "2040  2045.jpg      5.0\n",
      "2041  2046.jpg      5.0\n",
      "2042  2047.jpg      5.0\n",
      "2043  2048.jpg      5.0\n",
      "2046  2051.jpg      5.0\n",
      "2049  2054.jpg      5.0\n",
      "2050  2055.jpg      5.0\n",
      "2052  2057.jpg      5.0\n",
      "2053  2058.jpg      5.0\n",
      "2054  2059.jpg      5.0\n",
      "2056  2061.jpg      5.0\n",
      "2057  2062.jpg      5.0\n",
      "2059  2064.jpg      5.0\n",
      "2061  2066.jpg      5.0\n",
      "2063  2068.jpg      5.0\n",
      "2064  2069.jpg      5.0\n",
      "2065  2070.jpg      5.0\n",
      "2066  2071.jpg      5.0\n",
      "2067  2072.jpg      5.0\n",
      "2069  2074.jpg      6.0\n",
      "2071  2076.jpg      4.0\n",
      "2072  2077.jpg      5.0\n",
      "2075  2080.jpg      5.0\n",
      "2077  2082.jpg      5.0\n",
      "2079  2084.jpg      5.0\n",
      "2080  2085.jpg      4.0\n",
      "2081  2086.jpg      5.0\n",
      "2085  2090.jpg      5.0\n",
      "2086  2091.jpg      5.0\n",
      "2087  2092.jpg      6.0\n",
      "2088  2093.jpg      5.0\n",
      "2090  2095.jpg      5.0\n",
      "2091  2096.jpg      5.0\n",
      "2092  2097.jpg      5.0\n",
      "2094  2099.jpg      5.0\n",
      "2095  2100.jpg      5.0\n",
      "2102  2107.jpg      5.0\n",
      "2103  2108.jpg      2.0\n",
      "2106  2111.jpg      5.0\n",
      "2109  2114.jpg      5.0\n",
      "2110  2115.jpg      2.0\n",
      "2113  2118.jpg      6.0\n",
      "2114  2119.jpg      5.0\n",
      "2115  2120.jpg      6.0\n",
      "2117  2122.jpg      6.0\n",
      "2118  2123.jpg      3.0\n",
      "2119  2124.jpg      4.0\n",
      "2121  2126.jpg      5.0\n",
      "2125  2130.jpg      5.0\n",
      "2126  2131.jpg      5.0\n",
      "2129  2134.jpg      6.0\n",
      "2130  2135.jpg      6.0\n",
      "2134  2139.jpg      5.0\n",
      "2137  2142.jpg      5.0\n",
      "2139  2144.jpg      5.0\n",
      "2141  2146.jpg      5.0\n",
      "2142  2147.jpg      2.0\n",
      "2143  2148.jpg      1.0\n",
      "2144  2149.jpg      2.0\n",
      "2147  2152.jpg      6.0\n",
      "2148  2153.jpg      1.0\n",
      "2150  2155.jpg      5.0\n",
      "2152  2157.jpg      5.0\n",
      "2154  2159.jpg      5.0\n",
      "2155  2160.jpg      5.0\n",
      "2158  2163.jpg      5.0\n",
      "2159  2164.jpg      5.0\n",
      "2167  2172.jpg      5.0\n",
      "2176  2181.jpg      6.0\n",
      "2179  2184.jpg      6.0\n",
      "2185  2190.jpg      5.0\n",
      "2186  2191.jpg      5.0\n",
      "2188  2193.jpg      5.0\n",
      "2189  2194.jpg      5.0\n",
      "2191  2196.jpg      5.0\n",
      "2192  2197.jpg      5.0\n",
      "2193  2198.jpg      5.0\n",
      "2194  2199.jpg      5.0\n",
      "2195  2200.jpg      1.0\n",
      "2197  2202.jpg      5.0\n",
      "2199  2204.jpg      5.0\n",
      "2201  2206.jpg      5.0\n",
      "2206  2211.jpg      5.0\n",
      "2209  2214.jpg      5.0\n",
      "2210  2215.jpg      5.0\n",
      "2211  2216.jpg      5.0\n",
      "2215  2220.jpg      6.0\n",
      "2216  2221.jpg      6.0\n",
      "2217  2222.jpg      5.0\n",
      "2219  2224.jpg      5.0\n",
      "2220  2225.jpg      5.0\n",
      "2221  2226.jpg      5.0\n",
      "2222  2227.jpg      5.0\n",
      "2224  2229.jpg      2.0\n",
      "2225  2230.jpg      5.0\n",
      "2226  2231.jpg      5.0\n",
      "2229  2234.jpg      6.0\n",
      "2233  2238.jpg      5.0\n",
      "2237  2242.jpg      5.0\n",
      "2242  2247.jpg      5.0\n",
      "2243  2248.jpg      5.0\n",
      "2244  2249.jpg      5.0\n",
      "2245  2250.jpg      6.0\n",
      "2247  2252.jpg      5.0\n",
      "2248  2253.jpg      5.0\n",
      "2249  2254.jpg      5.0\n",
      "2250  2255.jpg      5.0\n",
      "2253  2258.jpg      5.0\n",
      "2254  2259.jpg      5.0\n",
      "2255  2260.jpg      5.0\n",
      "2256  2261.jpg      5.0\n",
      "2257  2262.jpg      6.0\n",
      "2259  2264.jpg      5.0\n",
      "2260  2265.jpg      5.0\n",
      "2261  2266.jpg      5.0\n",
      "2264  2269.jpg      5.0\n",
      "2265  2270.jpg      5.0\n",
      "2266  2271.jpg      5.0\n",
      "2269  2274.jpg      5.0\n",
      "2271  2276.jpg      6.0\n",
      "2273  2278.jpg      5.0\n",
      "2275  2280.jpg      5.0\n",
      "2276  2281.jpg      3.0\n",
      "2277  2282.jpg      4.0\n",
      "2279  2284.jpg      4.0\n",
      "2281  2286.jpg      5.0\n",
      "2282  2287.jpg      5.0\n",
      "2286  2291.jpg      5.0\n",
      "2288  2293.jpg      5.0\n",
      "2289  2294.jpg      5.0\n",
      "2290  2295.jpg      2.0\n",
      "2294  2299.jpg      3.0\n",
      "2300  2305.jpg      3.0\n",
      "2301  2306.jpg      4.0\n",
      "2303  2308.jpg      5.0\n",
      "2304  2309.jpg      1.0\n",
      "2307  2312.jpg      5.0\n",
      "2309  2314.jpg      5.0\n",
      "2310  2315.jpg      5.0\n",
      "2312  2317.jpg      5.0\n",
      "2314  2319.jpg      4.0\n",
      "2319  2324.jpg      5.0\n",
      "2321  2326.jpg      4.0\n",
      "2322  2327.jpg      2.0\n",
      "2323  2328.jpg      6.0\n",
      "2336  2341.jpg      5.0\n",
      "2341  2346.jpg      5.0\n",
      "2343  2348.jpg      5.0\n",
      "2347  2352.jpg      5.0\n",
      "2348  2353.jpg      5.0\n",
      "2349  2354.jpg      6.0\n",
      "2350  2355.jpg      5.0\n",
      "2352  2357.jpg      5.0\n",
      "2354  2359.jpg      5.0\n",
      "2355  2360.jpg      5.0\n",
      "2356  2361.jpg      5.0\n",
      "2359  2364.jpg      5.0\n",
      "2360  2365.jpg      5.0\n",
      "2361  2366.jpg      5.0\n",
      "2365  2370.jpg      5.0\n",
      "2366  2371.jpg      5.0\n",
      "2367  2372.jpg      5.0\n",
      "2369  2374.jpg      5.0\n",
      "2370  2375.jpg      5.0\n",
      "2371  2376.jpg      5.0\n",
      "2373  2378.jpg      5.0\n",
      "2374  2379.jpg      5.0\n",
      "2377  2382.jpg      5.0\n",
      "2378  2383.jpg      5.0\n",
      "2380  2385.jpg      5.0\n",
      "2385  2390.jpg      1.0\n",
      "2386  2391.jpg      1.0\n",
      "2387  2392.jpg      5.0\n",
      "2389  2394.jpg      5.0\n",
      "2390  2395.jpg      5.0\n",
      "2391  2396.jpg      5.0\n",
      "2392  2397.jpg      5.0\n",
      "2398  2403.jpg      5.0\n",
      "2399  2404.jpg      5.0\n",
      "2401  2406.jpg      5.0\n",
      "2403  2408.jpg      5.0\n",
      "2404  2409.jpg      3.0\n",
      "2405  2410.jpg      5.0\n",
      "2406  2411.jpg      4.0\n",
      "2407  2412.jpg      5.0\n",
      "2408  2413.jpg      3.0\n",
      "2409  2414.jpg      3.0\n",
      "2411  2416.jpg      3.0\n",
      "2413  2418.jpg      4.0\n",
      "2414  2419.jpg      4.0\n",
      "2415  2420.jpg      3.0\n",
      "2416  2421.jpg      4.0\n",
      "2417  2422.jpg      3.0\n",
      "2418  2423.jpg      5.0\n",
      "2419  2424.jpg      5.0\n",
      "2421  2426.jpg      5.0\n",
      "2427  2432.jpg      1.0\n",
      "2433  2438.jpg      4.0\n",
      "2434  2439.jpg      6.0\n",
      "2435  2440.jpg      5.0\n",
      "2436  2441.jpg      1.0\n",
      "2438  2443.jpg      5.0\n",
      "2439  2444.jpg      2.0\n",
      "2440  2445.jpg      3.0\n",
      "2442  2447.jpg      1.0\n",
      "2443  2448.jpg      4.0\n",
      "2445  2450.jpg      3.0\n",
      "2446  2451.jpg      4.0\n",
      "2447  2452.jpg      5.0\n",
      "2452  2457.jpg      5.0\n",
      "2453  2458.jpg      3.0\n",
      "2457  2462.jpg      5.0\n",
      "2458  2463.jpg      4.0\n",
      "2459  2464.jpg      5.0\n",
      "2462  2467.jpg      4.0\n",
      "2463  2468.jpg      5.0\n",
      "2465  2470.jpg      2.0\n",
      "2466  2471.jpg      5.0\n",
      "2467  2472.jpg      5.0\n",
      "2471  2476.jpg      5.0\n"
     ]
    }
   ],
   "source": [
    "with pd.option_context('display.max_rows', None, 'display.max_columns', None):  # more options can be specified also\n",
    "    print(EmotioNet_labels)\n"
   ]
  },
  {
   "cell_type": "code",
   "execution_count": 14,
   "metadata": {},
   "outputs": [],
   "source": [
    "EmotioNet_emotion = pd.merge(EmotioNet_labels,EmotioNet_emotion, how=\"inner\", on=['Name'])"
   ]
  },
  {
   "cell_type": "code",
   "execution_count": 16,
   "metadata": {},
   "outputs": [
    {
     "name": "stdout",
     "output_type": "stream",
     "text": [
      "4942\n"
     ]
    }
   ],
   "source": [
    "with pd.option_context('display.max_rows', None, 'display.max_columns', None):  # more options can be specified also\n",
    "    print(undetected.size)"
   ]
  },
  {
   "cell_type": "code",
   "execution_count": 17,
   "metadata": {},
   "outputs": [],
   "source": [
    "EmotioNet_emotion_clean =EmotioNet_emotion.dropna()"
   ]
  },
  {
   "cell_type": "code",
   "execution_count": 91,
   "metadata": {},
   "outputs": [
    {
     "data": {
      "text/plain": [
       "(224, 224)"
      ]
     },
     "execution_count": 91,
     "metadata": {},
     "output_type": "execute_result"
    }
   ],
   "source": [
    "EmotioNet_emotion_clean.Data.iloc[0].shape"
   ]
  },
  {
   "cell_type": "code",
   "execution_count": 37,
   "metadata": {},
   "outputs": [],
   "source": [
    "EmotioNet_emotion_clean.to_pickle(f\"./EmotioNet_Data_{size[0]}_Emotions\")"
   ]
  },
  {
   "cell_type": "code",
   "execution_count": 21,
   "metadata": {},
   "outputs": [],
   "source": [
    "undetected.dropna(inplace=True)"
   ]
  },
  {
   "cell_type": "code",
   "execution_count": 23,
   "metadata": {},
   "outputs": [],
   "source": [
    "EmotioNet_emotion_clean.to_pickle(f\"./EmotioNet_undetected_{size[0]}_Emotions\")"
   ]
  },
  {
   "cell_type": "code",
   "execution_count": 14,
   "metadata": {},
   "outputs": [],
   "source": [
    "cv2.imshow(\"test\",undetected.Data.iloc[3])\n",
    "cv2.waitKey(0)\n",
    "cv2.destroyAllWindows()\n"
   ]
  },
  {
   "cell_type": "code",
   "execution_count": 92,
   "metadata": {},
   "outputs": [],
   "source": [
    "from sklearn.model_selection import train_test_split\n",
    "\n",
    "def create_stratified_datasets(X, y, test_size=0.10, val_size=0.10, random_state=None):\n",
    "    \"\"\"\n",
    "    Creates three stratified datasets - train, validation, and test - from the input data X and target y.\n",
    "    \n",
    "    Parameters:\n",
    "        X (array-like): The input data.\n",
    "        y (array-like): The target variable.\n",
    "        test_size (float): The proportion of the data to include in the test set.\n",
    "        val_size (float): The proportion of the remaining data to include in the validation set.\n",
    "        random_state (int): Seed for the random number generator.\n",
    "    \n",
    "    Returns:\n",
    "        A tuple containing the train, validation, and test datasets, each as a tuple of input and target variables.\n",
    "    \"\"\"\n",
    "    \n",
    "    # split data into train and test sets\n",
    "    X_train, X_test, y_train, y_test = train_test_split(X, y, test_size=test_size, random_state=random_state, stratify=y)\n",
    "    \n",
    "    # split remaining data into validation and train sets\n",
    "    X_train, X_val, y_train, y_val = train_test_split(X_train, y_train, test_size=val_size/(1-test_size), random_state=random_state, stratify=y_train)\n",
    "    \n",
    "    return (X_train, y_train), (X_val, y_val), (X_test, y_test)"
   ]
  },
  {
   "cell_type": "code",
   "execution_count": 93,
   "metadata": {},
   "outputs": [],
   "source": [
    "EmotioNet_emotion_clean = pd.read_pickle(\"./EmotioNet_Data_224_Emotions\")"
   ]
  },
  {
   "cell_type": "code",
   "execution_count": 94,
   "metadata": {},
   "outputs": [
    {
     "data": {
      "text/plain": [
       "False"
      ]
     },
     "execution_count": 94,
     "metadata": {},
     "output_type": "execute_result"
    }
   ],
   "source": [
    "EmotioNet_emotion_clean['emotion'].isnull().values.any()"
   ]
  },
  {
   "cell_type": "code",
   "execution_count": 95,
   "metadata": {},
   "outputs": [],
   "source": [
    "EmotioNet_emotion_target = EmotioNet_emotion_clean['emotion']\n",
    "EmotioNet_emotion_data = EmotioNet_emotion_clean['Data']\n",
    "(X_train, y_train), (X_val, y_val), (X_test, y_test) = create_stratified_datasets(EmotioNet_emotion_data,EmotioNet_emotion_target)\n",
    "\n"
   ]
  },
  {
   "cell_type": "code",
   "execution_count": 96,
   "metadata": {},
   "outputs": [
    {
     "name": "stdout",
     "output_type": "stream",
     "text": [
      "Distribution in training set (877): \n",
      "1.0    0.055872\n",
      "2.0    0.059293\n",
      "3.0    0.050171\n",
      "4.0    0.036488\n",
      "5.0    0.681870\n",
      "6.0    0.116306\n",
      "Name: emotion, dtype: float64\n",
      "\n",
      "Distribution in validation set (110): \n",
      "1.0    0.054545\n",
      "2.0    0.054545\n",
      "3.0    0.054545\n",
      "4.0    0.036364\n",
      "5.0    0.681818\n",
      "6.0    0.118182\n",
      "Name: emotion, dtype: float64\n",
      "\n",
      "Distribution in testing set (110): \n",
      "1.0    0.054545\n",
      "2.0    0.063636\n",
      "3.0    0.045455\n",
      "4.0    0.036364\n",
      "5.0    0.681818\n",
      "6.0    0.118182\n",
      "Name: emotion, dtype: float64\n"
     ]
    }
   ],
   "source": [
    "print(f'Distribution in training set ({len(y_train)}): \\n{y_train.value_counts().sort_index() / len(y_train)}\\n\\n'+\n",
    "      f'Distribution in validation set ({len(y_val)}): \\n{y_val.value_counts().sort_index() / len(y_val)}\\n\\n'+\n",
    "      f'Distribution in testing set ({len(y_test)}): \\n{y_test.value_counts().sort_index() / len(y_test)}')"
   ]
  },
  {
   "cell_type": "code",
   "execution_count": 97,
   "metadata": {},
   "outputs": [],
   "source": [
    "X_train.to_pickle('./Clean_datasets/EmotioNet/EmotioNet_Emotion_X_train')\n",
    "y_train.to_pickle('./Clean_datasets/EmotioNet/EmotioNet_Emotion_Y_train')\n",
    "X_val.to_pickle('./Clean_datasets/EmotioNet/EmotioNet_Emotion_X_val')\n",
    "y_val.to_pickle('./Clean_datasets/EmotioNet/EmotioNet_Emotion_Y_val')\n",
    "X_test.to_pickle('./Clean_datasets/EmotioNet/EmotioNet_Emotion_X_test')\n",
    "y_test.to_pickle('./Clean_datasets/EmotioNet/EmotioNet_Emotion_Y_test')"
   ]
  },
  {
   "attachments": {},
   "cell_type": "markdown",
   "metadata": {},
   "source": [
    "FACS"
   ]
  },
  {
   "cell_type": "code",
   "execution_count": 5,
   "metadata": {},
   "outputs": [],
   "source": [
    "EmotioNet_facs_images = pathlib.Path(\"C:/Users/cdr03/Documents/Thesis/dataset/EmotioNet/emotioNet_FACS\")\n",
    "EmotioNet_facs_labels = pathlib.Path(\"C:/Users/cdr03/Documents/Thesis/dataset/EmotioNet/EmotioNet_FACS_clean_v3.xlsx\")\n",
    "#emotioNet_emotion_files = list_files(EmotioNet_emotion_images)"
   ]
  },
  {
   "cell_type": "code",
   "execution_count": null,
   "metadata": {},
   "outputs": [],
   "source": [
    "EmotioNet_facs, undetected_facs = readImages(emotioNet_emotion_files)"
   ]
  },
  {
   "cell_type": "code",
   "execution_count": 36,
   "metadata": {},
   "outputs": [],
   "source": [
    "EmotioNet_facs.to_pickle(f\"./EmontioNet_FACS_Data_{size[0]}\")\n",
    "undetected_facs.to_pickle(f\"./EmontioNet_FACS_undetected_{size[0]}\")"
   ]
  },
  {
   "cell_type": "code",
   "execution_count": 3,
   "metadata": {},
   "outputs": [],
   "source": [
    "EmotioNet_facs = pd.read_pickle('EmontioNet_FACS_Data_224')"
   ]
  },
  {
   "cell_type": "code",
   "execution_count": 6,
   "metadata": {},
   "outputs": [],
   "source": [
    "EmotioNet_facs_labels_df = pd.read_excel(EmotioNet_facs_labels)"
   ]
  },
  {
   "cell_type": "code",
   "execution_count": 7,
   "metadata": {},
   "outputs": [
    {
     "data": {
      "text/html": [
       "<div>\n",
       "<style scoped>\n",
       "    .dataframe tbody tr th:only-of-type {\n",
       "        vertical-align: middle;\n",
       "    }\n",
       "\n",
       "    .dataframe tbody tr th {\n",
       "        vertical-align: top;\n",
       "    }\n",
       "\n",
       "    .dataframe thead th {\n",
       "        text-align: right;\n",
       "    }\n",
       "</style>\n",
       "<table border=\"1\" class=\"dataframe\">\n",
       "  <thead>\n",
       "    <tr style=\"text-align: right;\">\n",
       "      <th></th>\n",
       "      <th>Name</th>\n",
       "      <th>AU 1</th>\n",
       "      <th>AU 2</th>\n",
       "      <th>AU 4</th>\n",
       "      <th>AU 5</th>\n",
       "      <th>AU 6</th>\n",
       "      <th>AU 9</th>\n",
       "      <th>AU 10</th>\n",
       "      <th>AU 12</th>\n",
       "      <th>AU 15</th>\n",
       "      <th>...</th>\n",
       "      <th>AU 24</th>\n",
       "      <th>AU 25</th>\n",
       "      <th>AU 26</th>\n",
       "      <th>AU 28</th>\n",
       "      <th>AU 51</th>\n",
       "      <th>AU 52</th>\n",
       "      <th>AU 53</th>\n",
       "      <th>AU 54</th>\n",
       "      <th>AU 55</th>\n",
       "      <th>AU 56</th>\n",
       "    </tr>\n",
       "  </thead>\n",
       "  <tbody>\n",
       "    <tr>\n",
       "      <th>0</th>\n",
       "      <td>N_0000000001_00001.jpg</td>\n",
       "      <td>0</td>\n",
       "      <td>0</td>\n",
       "      <td>0</td>\n",
       "      <td>1</td>\n",
       "      <td>0</td>\n",
       "      <td>0</td>\n",
       "      <td>1</td>\n",
       "      <td>1</td>\n",
       "      <td>1</td>\n",
       "      <td>...</td>\n",
       "      <td>0</td>\n",
       "      <td>1</td>\n",
       "      <td>0</td>\n",
       "      <td>0</td>\n",
       "      <td>0</td>\n",
       "      <td>0</td>\n",
       "      <td>1</td>\n",
       "      <td>0</td>\n",
       "      <td>1</td>\n",
       "      <td>0</td>\n",
       "    </tr>\n",
       "    <tr>\n",
       "      <th>1</th>\n",
       "      <td>N_0000000001_00003.jpg</td>\n",
       "      <td>0</td>\n",
       "      <td>0</td>\n",
       "      <td>0</td>\n",
       "      <td>0</td>\n",
       "      <td>0</td>\n",
       "      <td>0</td>\n",
       "      <td>0</td>\n",
       "      <td>0</td>\n",
       "      <td>0</td>\n",
       "      <td>...</td>\n",
       "      <td>0</td>\n",
       "      <td>0</td>\n",
       "      <td>1</td>\n",
       "      <td>0</td>\n",
       "      <td>0</td>\n",
       "      <td>0</td>\n",
       "      <td>1</td>\n",
       "      <td>0</td>\n",
       "      <td>0</td>\n",
       "      <td>1</td>\n",
       "    </tr>\n",
       "    <tr>\n",
       "      <th>2</th>\n",
       "      <td>N_0000000001_00004.jpg</td>\n",
       "      <td>1</td>\n",
       "      <td>0</td>\n",
       "      <td>1</td>\n",
       "      <td>1</td>\n",
       "      <td>0</td>\n",
       "      <td>0</td>\n",
       "      <td>0</td>\n",
       "      <td>1</td>\n",
       "      <td>0</td>\n",
       "      <td>...</td>\n",
       "      <td>1</td>\n",
       "      <td>0</td>\n",
       "      <td>0</td>\n",
       "      <td>0</td>\n",
       "      <td>1</td>\n",
       "      <td>0</td>\n",
       "      <td>0</td>\n",
       "      <td>0</td>\n",
       "      <td>1</td>\n",
       "      <td>0</td>\n",
       "    </tr>\n",
       "    <tr>\n",
       "      <th>3</th>\n",
       "      <td>N_0000000001_00005.jpg</td>\n",
       "      <td>0</td>\n",
       "      <td>0</td>\n",
       "      <td>0</td>\n",
       "      <td>0</td>\n",
       "      <td>0</td>\n",
       "      <td>0</td>\n",
       "      <td>0</td>\n",
       "      <td>0</td>\n",
       "      <td>0</td>\n",
       "      <td>...</td>\n",
       "      <td>0</td>\n",
       "      <td>0</td>\n",
       "      <td>1</td>\n",
       "      <td>0</td>\n",
       "      <td>1</td>\n",
       "      <td>0</td>\n",
       "      <td>0</td>\n",
       "      <td>1</td>\n",
       "      <td>0</td>\n",
       "      <td>0</td>\n",
       "    </tr>\n",
       "    <tr>\n",
       "      <th>4</th>\n",
       "      <td>N_0000000001_00006.jpg</td>\n",
       "      <td>0</td>\n",
       "      <td>0</td>\n",
       "      <td>1</td>\n",
       "      <td>0</td>\n",
       "      <td>0</td>\n",
       "      <td>0</td>\n",
       "      <td>0</td>\n",
       "      <td>0</td>\n",
       "      <td>0</td>\n",
       "      <td>...</td>\n",
       "      <td>0</td>\n",
       "      <td>1</td>\n",
       "      <td>0</td>\n",
       "      <td>0</td>\n",
       "      <td>0</td>\n",
       "      <td>0</td>\n",
       "      <td>0</td>\n",
       "      <td>0</td>\n",
       "      <td>0</td>\n",
       "      <td>1</td>\n",
       "    </tr>\n",
       "    <tr>\n",
       "      <th>5</th>\n",
       "      <td>N_0000000001_00007.jpg</td>\n",
       "      <td>0</td>\n",
       "      <td>0</td>\n",
       "      <td>1</td>\n",
       "      <td>0</td>\n",
       "      <td>0</td>\n",
       "      <td>0</td>\n",
       "      <td>0</td>\n",
       "      <td>1</td>\n",
       "      <td>0</td>\n",
       "      <td>...</td>\n",
       "      <td>0</td>\n",
       "      <td>0</td>\n",
       "      <td>0</td>\n",
       "      <td>0</td>\n",
       "      <td>0</td>\n",
       "      <td>0</td>\n",
       "      <td>0</td>\n",
       "      <td>0</td>\n",
       "      <td>1</td>\n",
       "      <td>0</td>\n",
       "    </tr>\n",
       "    <tr>\n",
       "      <th>6</th>\n",
       "      <td>N_0000000001_00008.jpg</td>\n",
       "      <td>0</td>\n",
       "      <td>0</td>\n",
       "      <td>0</td>\n",
       "      <td>0</td>\n",
       "      <td>0</td>\n",
       "      <td>0</td>\n",
       "      <td>1</td>\n",
       "      <td>1</td>\n",
       "      <td>0</td>\n",
       "      <td>...</td>\n",
       "      <td>0</td>\n",
       "      <td>1</td>\n",
       "      <td>0</td>\n",
       "      <td>0</td>\n",
       "      <td>0</td>\n",
       "      <td>0</td>\n",
       "      <td>0</td>\n",
       "      <td>0</td>\n",
       "      <td>1</td>\n",
       "      <td>0</td>\n",
       "    </tr>\n",
       "    <tr>\n",
       "      <th>7</th>\n",
       "      <td>N_0000000001_00009.jpg</td>\n",
       "      <td>0</td>\n",
       "      <td>0</td>\n",
       "      <td>0</td>\n",
       "      <td>1</td>\n",
       "      <td>0</td>\n",
       "      <td>0</td>\n",
       "      <td>1</td>\n",
       "      <td>0</td>\n",
       "      <td>1</td>\n",
       "      <td>...</td>\n",
       "      <td>1</td>\n",
       "      <td>0</td>\n",
       "      <td>0</td>\n",
       "      <td>0</td>\n",
       "      <td>1</td>\n",
       "      <td>0</td>\n",
       "      <td>0</td>\n",
       "      <td>0</td>\n",
       "      <td>0</td>\n",
       "      <td>0</td>\n",
       "    </tr>\n",
       "    <tr>\n",
       "      <th>8</th>\n",
       "      <td>N_0000000001_00010.jpg</td>\n",
       "      <td>0</td>\n",
       "      <td>0</td>\n",
       "      <td>0</td>\n",
       "      <td>0</td>\n",
       "      <td>1</td>\n",
       "      <td>0</td>\n",
       "      <td>1</td>\n",
       "      <td>1</td>\n",
       "      <td>0</td>\n",
       "      <td>...</td>\n",
       "      <td>0</td>\n",
       "      <td>1</td>\n",
       "      <td>0</td>\n",
       "      <td>0</td>\n",
       "      <td>1</td>\n",
       "      <td>0</td>\n",
       "      <td>0</td>\n",
       "      <td>0</td>\n",
       "      <td>0</td>\n",
       "      <td>0</td>\n",
       "    </tr>\n",
       "    <tr>\n",
       "      <th>9</th>\n",
       "      <td>N_0000000001_00011.jpg</td>\n",
       "      <td>0</td>\n",
       "      <td>0</td>\n",
       "      <td>0</td>\n",
       "      <td>0</td>\n",
       "      <td>0</td>\n",
       "      <td>0</td>\n",
       "      <td>1</td>\n",
       "      <td>1</td>\n",
       "      <td>0</td>\n",
       "      <td>...</td>\n",
       "      <td>0</td>\n",
       "      <td>0</td>\n",
       "      <td>0</td>\n",
       "      <td>0</td>\n",
       "      <td>0</td>\n",
       "      <td>1</td>\n",
       "      <td>1</td>\n",
       "      <td>0</td>\n",
       "      <td>0</td>\n",
       "      <td>1</td>\n",
       "    </tr>\n",
       "  </tbody>\n",
       "</table>\n",
       "<p>10 rows × 23 columns</p>\n",
       "</div>"
      ],
      "text/plain": [
       "                     Name  AU 1  AU 2  AU 4  AU 5  AU 6  AU 9  AU 10  AU 12  \\\n",
       "0  N_0000000001_00001.jpg     0     0     0     1     0     0      1      1   \n",
       "1  N_0000000001_00003.jpg     0     0     0     0     0     0      0      0   \n",
       "2  N_0000000001_00004.jpg     1     0     1     1     0     0      0      1   \n",
       "3  N_0000000001_00005.jpg     0     0     0     0     0     0      0      0   \n",
       "4  N_0000000001_00006.jpg     0     0     1     0     0     0      0      0   \n",
       "5  N_0000000001_00007.jpg     0     0     1     0     0     0      0      1   \n",
       "6  N_0000000001_00008.jpg     0     0     0     0     0     0      1      1   \n",
       "7  N_0000000001_00009.jpg     0     0     0     1     0     0      1      0   \n",
       "8  N_0000000001_00010.jpg     0     0     0     0     1     0      1      1   \n",
       "9  N_0000000001_00011.jpg     0     0     0     0     0     0      1      1   \n",
       "\n",
       "   AU 15  ...  AU 24  AU 25  AU 26  AU 28  AU 51  AU 52  AU 53  AU 54  AU 55  \\\n",
       "0      1  ...      0      1      0      0      0      0      1      0      1   \n",
       "1      0  ...      0      0      1      0      0      0      1      0      0   \n",
       "2      0  ...      1      0      0      0      1      0      0      0      1   \n",
       "3      0  ...      0      0      1      0      1      0      0      1      0   \n",
       "4      0  ...      0      1      0      0      0      0      0      0      0   \n",
       "5      0  ...      0      0      0      0      0      0      0      0      1   \n",
       "6      0  ...      0      1      0      0      0      0      0      0      1   \n",
       "7      1  ...      1      0      0      0      1      0      0      0      0   \n",
       "8      0  ...      0      1      0      0      1      0      0      0      0   \n",
       "9      0  ...      0      0      0      0      0      1      1      0      0   \n",
       "\n",
       "   AU 56  \n",
       "0      0  \n",
       "1      1  \n",
       "2      0  \n",
       "3      0  \n",
       "4      1  \n",
       "5      0  \n",
       "6      0  \n",
       "7      0  \n",
       "8      0  \n",
       "9      1  \n",
       "\n",
       "[10 rows x 23 columns]"
      ]
     },
     "execution_count": 7,
     "metadata": {},
     "output_type": "execute_result"
    }
   ],
   "source": [
    "EmotioNet_facs_labels_df.head(10)"
   ]
  },
  {
   "cell_type": "code",
   "execution_count": 8,
   "metadata": {},
   "outputs": [],
   "source": [
    "EmotioNet_facs_images = pd.read_pickle('./EmontioNet_FACS_Data_224')"
   ]
  },
  {
   "cell_type": "code",
   "execution_count": 9,
   "metadata": {},
   "outputs": [],
   "source": [
    "EmotioNet_facs_images.dropna(inplace=True)"
   ]
  },
  {
   "cell_type": "code",
   "execution_count": 29,
   "metadata": {},
   "outputs": [
    {
     "name": "stdout",
     "output_type": "stream",
     "text": [
      "                      Name                                               Data\n",
      "0   N_0000000023_00258.jpg  [[0.1764706, 0.1764706, 0.1764706, 0.1764706, ...\n",
      "1   N_0000000042_00292.jpg  [[0.10980392, 0.10980392, 0.10980392, 0.109803...\n",
      "2   N_0000000010_00667.jpg  [[0.8509804, 0.85490197, 0.85490197, 0.8509804...\n",
      "3   N_0000000033_00872.jpg  [[0.07058824, 0.078431375, 0.078431375, 0.0784...\n",
      "5   N_0000000028_00799.jpg  [[0.25882354, 0.27058825, 0.3019608, 0.3333333...\n",
      "6   N_0000000005_00703.jpg  [[0.2901961, 0.2901961, 0.29411766, 0.29411766...\n",
      "7   N_0000000028_00525.jpg  [[0.8980392, 0.84313726, 0.64705884, 0.4156862...\n",
      "8   N_0000000001_00719.jpg  [[0.47843137, 0.47843137, 0.48235294, 0.482352...\n",
      "9   N_0000000030_00499.jpg  [[0.39607844, 0.39607844, 0.39607844, 0.396078...\n",
      "10  N_0000000007_00812.jpg  [[0.7529412, 0.75686276, 0.75686276, 0.7490196...\n"
     ]
    }
   ],
   "source": [
    "with pd.option_context('display.max_rows', None, 'display.max_columns', None):  # more options can be specified also\n",
    "    print(EmotioNet_facs_images.head(10))\n"
   ]
  },
  {
   "cell_type": "code",
   "execution_count": 30,
   "metadata": {},
   "outputs": [],
   "source": [
    "EmotioNet_facs_labels_df.columns\n",
    "au_cols = EmotioNet_facs_labels_df.columns[1:]\n",
    "\n",
    "# use apply method to generate new column containing array of column names with value of 1\n",
    "EmotioNet_facs_labels_df['AU'] = EmotioNet_facs_labels_df[au_cols].apply(lambda x: [int(col[3:]) for col in x.index[x == 1].tolist()], axis=1)"
   ]
  },
  {
   "cell_type": "code",
   "execution_count": 31,
   "metadata": {},
   "outputs": [],
   "source": [
    "EmotioNet_facs_clean_labels = EmotioNet_facs_labels_df[['Name', 'AU']]"
   ]
  },
  {
   "cell_type": "code",
   "execution_count": 32,
   "metadata": {},
   "outputs": [],
   "source": [
    "EmotioNet_facs_data = pd.merge(EmotioNet_facs_clean_labels,EmotioNet_facs_images, how=\"inner\", on='Name')"
   ]
  },
  {
   "cell_type": "code",
   "execution_count": 33,
   "metadata": {},
   "outputs": [
    {
     "data": {
      "text/plain": [
       "(15895, 3)"
      ]
     },
     "execution_count": 33,
     "metadata": {},
     "output_type": "execute_result"
    }
   ],
   "source": [
    "EmotioNet_facs_data.shape"
   ]
  },
  {
   "cell_type": "code",
   "execution_count": 34,
   "metadata": {},
   "outputs": [
    {
     "data": {
      "text/plain": [
       "Index(['Name', 'AU', 'Data'], dtype='object')"
      ]
     },
     "execution_count": 34,
     "metadata": {},
     "output_type": "execute_result"
    }
   ],
   "source": [
    "EmotioNet_facs_data.columns"
   ]
  },
  {
   "cell_type": "code",
   "execution_count": 35,
   "metadata": {},
   "outputs": [],
   "source": [
    "EmotioNet_facs_data.to_pickle('./EmontioNet_FACS_Data_clean_224')"
   ]
  },
  {
   "cell_type": "code",
   "execution_count": 10,
   "metadata": {},
   "outputs": [],
   "source": [
    "EmotioNet_facs_data = pd.read_pickle('./EmontioNet_FACS_Data_clean_224')"
   ]
  },
  {
   "cell_type": "code",
   "execution_count": 11,
   "metadata": {},
   "outputs": [
    {
     "data": {
      "text/plain": [
       "False"
      ]
     },
     "execution_count": 11,
     "metadata": {},
     "output_type": "execute_result"
    }
   ],
   "source": [
    "EmotioNet_facs_data['Data'].isnull().values.any()"
   ]
  },
  {
   "cell_type": "code",
   "execution_count": 20,
   "metadata": {},
   "outputs": [],
   "source": [
    "from sklearn.preprocessing import MultiLabelBinarizer\n",
    "mlb = MultiLabelBinarizer()\n",
    "\n",
    "# fit the binarizer on the 'AU' column\n",
    "mlb.fit(EmotioNet_facs_data['AU'])\n",
    "# transform the 'AU' column into a one-hot encoded matrix\n",
    "one_hot_encoded_au = mlb.transform(EmotioNet_facs_data['AU'])\n",
    "# convert the matrix into a Pandas dataframe\n",
    "one_hot_encoded_au_df = pd.DataFrame(one_hot_encoded_au, columns=mlb.classes_)\n",
    "one_hot_encoded_au_df['Data'] = EmotioNet_facs_data['Data']"
   ]
  },
  {
   "cell_type": "code",
   "execution_count": 21,
   "metadata": {},
   "outputs": [],
   "source": [
    "AU_columns = [1, 2, 4, 5, 6, 9, 10, 12, 15, 17, 18, 20, 24, 25, 26, 28, 'Data']"
   ]
  },
  {
   "cell_type": "code",
   "execution_count": 22,
   "metadata": {},
   "outputs": [],
   "source": [
    "pandas_df = one_hot_encoded_au_df[one_hot_encoded_au_df.columns.intersection(AU_columns)]"
   ]
  },
  {
   "cell_type": "code",
   "execution_count": 23,
   "metadata": {},
   "outputs": [],
   "source": [
    "EmotioNet_facs_X = pandas_df['Data']"
   ]
  },
  {
   "cell_type": "code",
   "execution_count": 24,
   "metadata": {},
   "outputs": [],
   "source": [
    "Au_labels_df = pandas_df.drop(columns = ['Data'])"
   ]
  },
  {
   "cell_type": "code",
   "execution_count": 26,
   "metadata": {},
   "outputs": [
    {
     "name": "stdout",
     "output_type": "stream",
     "text": [
      "12       True\n",
      "15       True\n",
      "25       True\n",
      "27       True\n",
      "93       True\n",
      "         ... \n",
      "14248    True\n",
      "14561    True\n",
      "15385    True\n",
      "15386    True\n",
      "15872    True\n",
      "Length: 101, dtype: bool\n",
      "Int64Index([   12,    15,    25,    27,    93,   110,   113,   132,   134,\n",
      "              136,\n",
      "            ...\n",
      "            12482, 13398, 13861, 13868, 14216, 14248, 14561, 15385, 15386,\n",
      "            15872],\n",
      "           dtype='int64', length=101)\n"
     ]
    }
   ],
   "source": [
    "all_zeros = Au_labels_df.eq(0).all(axis=1)\n",
    "print(all_zeros.loc[all_zeros==True])\n",
    "# display rows with only zeros\n",
    "empty_rows = all_zeros.loc[all_zeros==True].index\n",
    "print(empty_rows)"
   ]
  },
  {
   "cell_type": "code",
   "execution_count": 27,
   "metadata": {},
   "outputs": [],
   "source": [
    "EmotioNet_facs_X_clean = EmotioNet_facs_X.drop(empty_rows)\n",
    "Au_labels_df_clean  = Au_labels_df.drop(empty_rows)"
   ]
  },
  {
   "cell_type": "code",
   "execution_count": 61,
   "metadata": {},
   "outputs": [],
   "source": [
    "EmotioNet_facs_X = EmotioNet_facs_data['Data']"
   ]
  },
  {
   "cell_type": "code",
   "execution_count": 28,
   "metadata": {},
   "outputs": [],
   "source": [
    "from iterstrat.ml_stratifiers import MultilabelStratifiedShuffleSplit\n",
    "import numpy as np\n",
    "def multilable_split(X, y, size=0.1, random_state=12):\n",
    "   msss = MultilabelStratifiedShuffleSplit(n_splits=1, test_size=size, random_state=random_state)\n",
    "   for train_index, test_index in msss.split(X, y):\n",
    "      X_train, X_test = X.iloc[train_index], X.iloc[test_index]\n",
    "      y_train, y_test = y.iloc[train_index], y.iloc[test_index]\n",
    "      return X_train, X_test, y_train, y_test"
   ]
  },
  {
   "cell_type": "code",
   "execution_count": 29,
   "metadata": {},
   "outputs": [],
   "source": [
    "def create_balanced_datasets_multilabel(X, y, test_size=0.10, val_size=0.10):\n",
    "    \"\"\"\n",
    "    Creates three stratified datasets - train, validation, and test - from the input data X and target y.\n",
    "    \n",
    "    Parameters:\n",
    "        X (array-like): The input data.\n",
    "        y (array-like): The target variable.\n",
    "        test_size (float): The proportion of the data to include in the test set.\n",
    "        val_size (float): The proportion of the remaining data to include in the validation set.\n",
    "        random_state (int): Seed for the random number generator.\n",
    "    \n",
    "    Returns:\n",
    "        A tuple containing the train, validation, and test datasets, each as a tuple of input and target variables.\n",
    "    \"\"\"\n",
    "    # split data into train and test sets\n",
    "    X_train, X_test, y_train, y_test = multilable_split(X, y, size = test_size)\n",
    "    \n",
    "    # split remaining data into validation and train sets\n",
    "    X_train, X_val, y_train, y_val = multilable_split(X_train, y_train, size=val_size/(1-test_size))\n",
    "    \n",
    "    return (X_train, y_train), (X_val, y_val), (X_test, y_test)"
   ]
  },
  {
   "cell_type": "code",
   "execution_count": 30,
   "metadata": {},
   "outputs": [],
   "source": [
    "(X_train, y_train), (X_val, y_val), (X_test, y_test) = create_balanced_datasets_multilabel(EmotioNet_facs_X_clean,Au_labels_df_clean)"
   ]
  },
  {
   "cell_type": "code",
   "execution_count": 31,
   "metadata": {},
   "outputs": [],
   "source": [
    "X_train.to_pickle('./Clean_datasets/EmotioNet/EmotioNet_FACS_X_train')\n",
    "y_train.to_pickle('./Clean_datasets/EmotioNet/EmotioNet_FACS_Y_train')\n",
    "X_val.to_pickle('./Clean_datasets/EmotioNet/EmotioNet_FACS_X_val')\n",
    "y_val.to_pickle('./Clean_datasets/EmotioNet/EmotioNet_FACS_Y_val')\n",
    "X_test.to_pickle('./Clean_datasets/EmotioNet/EmotioNet_FACS_X_test')\n",
    "y_test.to_pickle('./Clean_datasets/EmotioNet/EmotioNet_FACS_Y_test')"
   ]
  },
  {
   "cell_type": "code",
   "execution_count": 32,
   "metadata": {},
   "outputs": [
    {
     "name": "stdout",
     "output_type": "stream",
     "text": [
      "Distribution in training set (12629): \n",
      "1  2  4  5  6  9  10  12  15  17  18  20  24  25  26  28\n",
      "0  0  0  0  0  0  0   0   0   0   0   0   0   0   0   1     0.000396\n",
      "                                                  1   0     0.000158\n",
      "                                              1   0   0     0.013778\n",
      "                                                      1     0.000396\n",
      "                                                  1   0     0.002455\n",
      "                                                              ...   \n",
      "1  1  1  0  0  0  1   0   0   0   1   0   1   0   0   0     0.000079\n",
      "                          1   0   0   0   0   1   0   0     0.000079\n",
      "                                          1   0   0   0     0.000079\n",
      "                                      1   0   1   0   0     0.000079\n",
      "                      1   0   0   0   0   0   1   1   0     0.000079\n",
      "Length: 755, dtype: float64\n",
      "\n",
      "Distribution in validation set (1578): \n",
      "1  2  4  5  6  9  10  12  15  17  18  20  24  25  26  28\n",
      "0  0  0  0  0  0  0   0   0   0   0   0   0   0   0   1     0.000634\n",
      "                                              1   0   0     0.015843\n",
      "                                                      1     0.001901\n",
      "                                                  1   0     0.001267\n",
      "                                          1   0   0   0     0.091255\n",
      "                                                              ...   \n",
      "1  1  0  1  0  0  1   0   1   0   0   0   1   0   0   0     0.000634\n",
      "                                      1   0   1   1   0     0.000634\n",
      "                      1   1   0   0   0   1   0   0   1     0.000634\n",
      "      1  0  0  0  1   0   0   0   1   0   0   1   0   0     0.000634\n",
      "         1  0  0  1   1   0   0   0   0   0   1   1   0     0.000634\n",
      "Length: 251, dtype: float64\n",
      "\n",
      "Distribution in testing set (1587): \n",
      "1  2  4  5  6  9  10  12  15  17  18  20  24  25  26  28\n",
      "0  0  0  0  0  0  0   0   0   0   0   0   0   0   0   1     0.000630\n",
      "                                              1   0   0     0.015123\n",
      "                                                  1   0     0.001260\n",
      "                                          1   0   0   0     0.090737\n",
      "                                                      1     0.003781\n",
      "                                                              ...   \n",
      "1  1  0  0  0  0  1   1   0   0   0   0   0   1   0   0     0.000630\n",
      "                                                  1   0     0.001260\n",
      "         1  0  0  1   0   0   0   1   0   0   1   1   0     0.000630\n",
      "                      1   0   0   0   0   0   1   1   0     0.000630\n",
      "      1  1  0  0  0   0   1   0   0   1   0   1   1   0     0.000630\n",
      "Length: 255, dtype: float64\n"
     ]
    }
   ],
   "source": [
    "print(f'Distribution in training set ({len(y_train)}): \\n{y_train.value_counts().sort_index() / len(y_train)}\\n\\n'+\n",
    "      f'Distribution in validation set ({len(y_val)}): \\n{y_val.value_counts().sort_index() / len(y_val)}\\n\\n'+\n",
    "      f'Distribution in testing set ({len(y_test)}): \\n{y_test.value_counts().sort_index() / len(y_test)}')"
   ]
  },
  {
   "cell_type": "code",
   "execution_count": null,
   "metadata": {},
   "outputs": [],
   "source": []
  }
 ],
 "metadata": {
  "kernelspec": {
   "display_name": "base",
   "language": "python",
   "name": "python3"
  },
  "language_info": {
   "codemirror_mode": {
    "name": "ipython",
    "version": 3
   },
   "file_extension": ".py",
   "mimetype": "text/x-python",
   "name": "python",
   "nbconvert_exporter": "python",
   "pygments_lexer": "ipython3",
   "version": "3.9.7"
  },
  "orig_nbformat": 4
 },
 "nbformat": 4,
 "nbformat_minor": 2
}
